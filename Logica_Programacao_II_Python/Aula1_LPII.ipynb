{
  "nbformat": 4,
  "nbformat_minor": 0,
  "metadata": {
    "colab": {
      "provenance": [],
      "authorship_tag": "ABX9TyMSU1fUe+qCjJvO3I2gFBNw"
    },
    "kernelspec": {
      "name": "python3",
      "display_name": "Python 3"
    },
    "language_info": {
      "name": "python"
    }
  },
  "cells": [
    {
      "cell_type": "markdown",
      "source": [
        "# Listas"
      ],
      "metadata": {
        "id": "Yg07TWWpeI8z"
      }
    },
    {
      "cell_type": "code",
      "execution_count": null,
      "metadata": {
        "colab": {
          "base_uri": "https://localhost:8080/"
        },
        "id": "3HJNTk-gr8-Z",
        "outputId": "d9da64b5-a9f3-4715-f7fc-7e9aacd1c906"
      },
      "outputs": [
        {
          "output_type": "stream",
          "name": "stdout",
          "text": [
            "Digite um número: 5\n",
            "Digite um número: 10\n",
            "Digite um número: 7\n",
            "Digite um número: 1\n",
            "Digite um número: 4\n",
            "Lista de números: [5.0, 10.0, 7.0, 1.0, 4.0]\n",
            "Soma da lista: 27.0\n",
            "Soma da lista: 27.0\n",
            "Maior número: 10.0\n",
            "Menor número: 1.0\n",
            "Maior número: 10.0\n",
            "Menor número: 1.0\n"
          ]
        }
      ],
      "source": [
        "#crie uma lista vazia chamada números\n",
        "numeros  = []\n",
        "\n",
        "#peça ao usuário para digitar 5 números e adicione-os à lista\n",
        "niters   = 5\n",
        "for i in range(niters):\n",
        "    num = float(input('Digite um número: '))\n",
        "    numeros.append(num)\n",
        "\n",
        "#imprima a lista de números\n",
        "print(f'Lista de números: {numeros}')\n",
        "\n",
        "#calcule a soma de todos os números da lista\n",
        "#sem usar função do python\n",
        "soma = 0\n",
        "for i in numeros:\n",
        "  soma += i\n",
        "print(f'Soma da lista: {soma}')\n",
        "#com função do python\n",
        "print(f'Soma da lista: {sum(numeros)}')\n",
        "\n",
        "#encontre o maior e o menor número da lista e os imprima\n",
        "#sem função do python\n",
        "maior = numeros[0]\n",
        "menor = numeros[0]\n",
        "\n",
        "for i in numeros[1:]:\n",
        "  if i > maior:\n",
        "    maior = i\n",
        "  elif i < menor:\n",
        "    menor = i\n",
        "print(f'Maior número: {maior}')\n",
        "print(f'Menor número: {menor}')\n",
        "#com função do python\n",
        "print(f'Maior número: {max(numeros)}')\n",
        "print(f'Menor número: {min(numeros)}')\n",
        "\n",
        "\n"
      ]
    },
    {
      "cell_type": "code",
      "source": [
        "#Ordenar uma lista\n",
        "lista          = [5.0, 10.0, 7.0, 1.0, 4.0, 3.0, 5.0]\n",
        "lista_copia    = lista.copy()\n",
        "lista_ordenada = []\n",
        "\n",
        "while len(lista_copia) > 0:\n",
        "  menor = lista_copia[0]\n",
        "  for i in lista_copia[1:]:\n",
        "    if i < menor:\n",
        "      menor = i\n",
        "  lista_ordenada.append(menor)\n",
        "  lista_copia.remove(menor)\n",
        "print(f'Lista original: {lista}')\n",
        "print(f'Lista ordenada: {lista_ordenada}')"
      ],
      "metadata": {
        "colab": {
          "base_uri": "https://localhost:8080/"
        },
        "id": "2RfmJSAZuN2e",
        "outputId": "ef0e4888-dc72-4539-f923-cd083fefcf91"
      },
      "execution_count": null,
      "outputs": [
        {
          "output_type": "stream",
          "name": "stdout",
          "text": [
            "Lista original: [5.0, 10.0, 7.0, 1.0, 4.0, 3.0, 5.0]\n",
            "Lista ordenada: [1.0, 3.0, 4.0, 5.0, 5.0, 7.0, 10.0]\n"
          ]
        }
      ]
    },
    {
      "cell_type": "code",
      "source": [
        "#Ordenar uma lista sem utilizar função ou método do python\n",
        "#sem utilizar remove ou append\n",
        "lista          = [15.0, 10.0, 7.0, 23.9,1.0, 4.0, 3.0, 5.0,-2.0,6.7]\n",
        "print(f'Lista original: {lista}')\n",
        "for i in range(len(lista)):\n",
        "  menor       = lista[i]\n",
        "  ind_menor   = i\n",
        "  for j in range(i+1,len(lista)):\n",
        "    if lista[j] < menor:\n",
        "      menor     = lista[j]\n",
        "      ind_menor = j\n",
        "  aux = lista[i]\n",
        "  lista[i] = lista[ind_menor]\n",
        "  lista[ind_menor] = aux\n",
        "\n",
        "print(f'Lista ordenada: {lista}')"
      ],
      "metadata": {
        "colab": {
          "base_uri": "https://localhost:8080/"
        },
        "id": "6R-7m4um4xZS",
        "outputId": "1e42a0fd-dbfe-40fe-8bf6-35172b2f8988"
      },
      "execution_count": null,
      "outputs": [
        {
          "output_type": "stream",
          "name": "stdout",
          "text": [
            "Lista original: [15.0, 10.0, 7.0, 23.9, 1.0, 4.0, 3.0, 5.0, -2.0, 6.7]\n",
            "Lista ordenada: [-2.0, 1.0, 3.0, 4.0, 5.0, 6.7, 7.0, 10.0, 15.0, 23.9]\n"
          ]
        }
      ]
    }
  ]
}
