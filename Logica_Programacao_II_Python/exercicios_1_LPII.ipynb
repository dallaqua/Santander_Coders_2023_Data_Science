{
  "nbformat": 4,
  "nbformat_minor": 0,
  "metadata": {
    "colab": {
      "provenance": [],
      "authorship_tag": "ABX9TyM0bR47ymzR1budnmTw3wPQ"
    },
    "kernelspec": {
      "name": "python3",
      "display_name": "Python 3"
    },
    "language_info": {
      "name": "python"
    }
  },
  "cells": [
    {
      "cell_type": "code",
      "execution_count": null,
      "metadata": {
        "colab": {
          "base_uri": "https://localhost:8080/"
        },
        "id": "DHKfhm7fUSsA",
        "outputId": "334a3ff3-9034-415b-ee1c-7280aa430f30"
      },
      "outputs": [
        {
          "output_type": "stream",
          "name": "stdout",
          "text": [
            "[2, 3, 5, 7, 13, 17, 19]\n"
          ]
        }
      ],
      "source": [
        "#1. Escreva uma função que recebe uma lista de números inteiros e retorna uma lista apenas com os números primos presentes na lista.\n",
        "def eh_primo(numero: int) -> bool:\n",
        "  if numero > 1:\n",
        "    flag = 1\n",
        "    for i in range(2,int(numero/2)+1):\n",
        "      if numero % i == 0:\n",
        "        flag = 0\n",
        "        break\n",
        "    if flag == 1:\n",
        "      return True\n",
        "  return False\n",
        "\n",
        "def get_primos(lista: list)-> list:\n",
        "  return list(filter(eh_primo,lista))\n",
        "\n",
        "print(get_primos([1,2,3,4,5,6,7,8,9,13,17,19,33,45,56,111]))\n"
      ]
    },
    {
      "cell_type": "code",
      "source": [
        "#2. Crie uma função que recebe uma lista de strings e retorna um dicionário onde as chaves são as strings e os valores são o número de ocorrências de cada string na lista.\n",
        "def numero_ocorrencias(lista: list) -> dict:\n",
        "  strings     = set(lista)\n",
        "  ocorrencias = dict()\n",
        "  for s in strings:\n",
        "    ocorrencias[s] = lista.count(s)\n",
        "  return ocorrencias\n",
        "\n",
        "print(numero_ocorrencias([\"teste\",\"um\",\"dois\",\"teste\",\"dois\",\"teste\",\"arara\"]))\n",
        "print(numero_ocorrencias([]))"
      ],
      "metadata": {
        "colab": {
          "base_uri": "https://localhost:8080/"
        },
        "id": "BlcFevuIUXIN",
        "outputId": "4115968a-2fea-487b-d5c1-2cf348f34b3f"
      },
      "execution_count": null,
      "outputs": [
        {
          "output_type": "stream",
          "name": "stdout",
          "text": [
            "{'teste': 3, 'arara': 1, 'dois': 2, 'um': 1}\n",
            "{}\n"
          ]
        }
      ]
    },
    {
      "cell_type": "code",
      "source": [
        "#3. Utilizando compreensão de listas, crie uma lista de todos os números pares entre 1 e 100 que sejam divisíveis por 6 e 9.\n",
        "lista = [x for x in range(1,101) if x%2==0 and x%6==0 and x%9==0]\n",
        "print(lista)"
      ],
      "metadata": {
        "colab": {
          "base_uri": "https://localhost:8080/"
        },
        "id": "F7fnDp66UZoX",
        "outputId": "b809e477-418a-4616-afa3-f47af95a4c11"
      },
      "execution_count": null,
      "outputs": [
        {
          "output_type": "stream",
          "name": "stdout",
          "text": [
            "[18, 36, 54, 72, 90]\n"
          ]
        }
      ]
    },
    {
      "cell_type": "code",
      "source": [
        "#4. Escreva uma função que recebe uma lista de tuplas, onde cada tupla contém o nome de um produto e o preço. A função deve retornar o produto mais caro da lista.\n",
        "def get_produto_mais_caro(*tuplas: tuple) -> tuple:\n",
        "  if len(tuplas) == 0:\n",
        "    return 'Não há item'\n",
        "  precos_ordenados = sorted(tuplas,key=lambda x:x[1],reverse=True)\n",
        "  produtos_mais_caros = [x for x in precos_ordenados if x[1] == precos_ordenados[0][1]]\n",
        "  return produtos_mais_caros\n",
        "\n",
        "print(get_produto_mais_caro((\"sabonete\",3.59)))\n",
        "print(get_produto_mais_caro((\"sabonete\",3.59),(\"shampoo\",20.00),(\"macarrão\",2.50),(\"sabão em pó\",37.50)))\n",
        "print(get_produto_mais_caro((\"sabonete\",3.59),(\"shampoo\",37.50),(\"macarrão\",2.50),(\"sabão em pó\",37.50)))\n",
        "print(get_produto_mais_caro())"
      ],
      "metadata": {
        "colab": {
          "base_uri": "https://localhost:8080/"
        },
        "id": "O759uOncV3Dw",
        "outputId": "c98795bf-c0c5-41e3-d13d-8cb37954cfd8"
      },
      "execution_count": null,
      "outputs": [
        {
          "output_type": "stream",
          "name": "stdout",
          "text": [
            "[('sabonete', 3.59)]\n",
            "[('sabão em pó', 37.5)]\n",
            "[('shampoo', 37.5), ('sabão em pó', 37.5)]\n",
            "Não há item\n"
          ]
        }
      ]
    },
    {
      "cell_type": "code",
      "source": [
        "#5. Crie uma função que recebe uma lista de strings e retorna uma nova lista contendo apenas as strings que são palíndromos (lidas da mesma forma de trás para frente).\n",
        "def eh_palindromo(palavra: str) -> bool:\n",
        "  if palavra == palavra[::-1]:\n",
        "    return True\n",
        "  return False\n",
        "\n",
        "def lista_palindromos(lista: list) -> list:\n",
        "  return list(filter(eh_palindromo,lista))\n",
        "\n",
        "print(lista_palindromos([\"arara\",\"teste\",\"lista\",\"palindromo\",\"aibofobia\",\"asa\",\"balao\"]))\n",
        "print(lista_palindromos([]))\n"
      ],
      "metadata": {
        "colab": {
          "base_uri": "https://localhost:8080/"
        },
        "id": "_fcqEVbaV69N",
        "outputId": "a8fba361-4c88-477d-c808-739cc83c333a"
      },
      "execution_count": null,
      "outputs": [
        {
          "output_type": "stream",
          "name": "stdout",
          "text": [
            "['arara', 'aibofobia', 'asa']\n",
            "[]\n"
          ]
        }
      ]
    },
    {
      "cell_type": "markdown",
      "source": [
        "Extra:\n",
        "\n",
        "Você foi contratado para desenvolver um sistema de processamento de votos para uma eleição. O sistema deve receber uma lista de votos contendo os números dos candidatos e produzir os seguintes resultados:\n",
        "\n",
        "a) O total de votos válidos (votos para candidatos existentes);\n",
        "\n",
        "b) O total de votos nulos (votos em candidatos não existentes);\n",
        "\n",
        "c) O total de votos em branco (votos em branco);\n",
        "\n",
        "d) O candidato vencedor (candidato com o maior número de votos válidos);\n",
        "\n",
        "e) A porcentagem de votos válidos para cada candidato.\n",
        "\n",
        "Considere que os votos válidos são os votos para candidatos cujo número está presente na lista de candidatos. Os votos nulos são os votos para candidatos cujo número não existe na lista de candidatos. Os votos em branco são votos que não possuem um número de candidato associado (valor 0).\n",
        "\n",
        "Desenvolva uma função em Python que receba a lista de votos e a lista de candidatos e retorne os resultados descritos acima.\n",
        "\n",
        "\n",
        "Exemplo de entrada:\n",
        "\n",
        "lista_votos = [10, 15, 23, 15, 0, 18, 10, 0, 12, 10]\n",
        "lista_candidatos = [10, 23, 18]\n",
        "\n",
        "Exemplo de saída:\n",
        "\n",
        "{\n",
        "    'votos_validos': 5,\n",
        "    'votos_nulos': 3,\n",
        "    'votos_em_branco': 2,\n",
        "    'candidato_vencedor': 10,\n",
        "    'porcentagem_votos_validos': {\n",
        "        10: 60.0,\n",
        "        23: 20.0,\n",
        "        18: 20.0\n",
        "    }\n",
        "}"
      ],
      "metadata": {
        "id": "o4AfJ_tQXF61"
      }
    },
    {
      "cell_type": "code",
      "source": [
        "def votos_por_candidato(votos_validos: list, lista_candidatos: list) -> dict:\n",
        "  lista_votos_por_candidato = []\n",
        "  for candidato in lista_candidatos:\n",
        "    lista_votos_por_candidato.append((candidato,votos_validos.count(candidato)))\n",
        "  mais_votados = sorted(lista_votos_por_candidato,key=lambda x: x[1],reverse=True)\n",
        "  check_empate = [candidato for candidato, n_votos in mais_votados[1:] if n_votos == mais_votados[0][1]]\n",
        "  relatorio    = dict()\n",
        "  if len(check_empate) == 0:\n",
        "    relatorio[\"candidato_vencedor\"]   = mais_votados[0][0]\n",
        "  else:\n",
        "    relatorio[\"candidatos_empatados\"] = [mais_votados[0][0]] + check_empate\n",
        "  total_votos = len(votos_validos)\n",
        "  relatorio[\"porcentagem_votos_validos\"] = dict()\n",
        "  for candidato,votos in lista_votos_por_candidato:\n",
        "    relatorio[\"porcentagem_votos_validos\"][candidato] = round(100*votos/total_votos,2)\n",
        "\n",
        "  return relatorio\n",
        "\n",
        "def contagem(lista_votos: list,lista_candidatos: list) -> dict:\n",
        "  if len(lista_candidatos) == 0:\n",
        "    return {'sem candidatos'}\n",
        "  votos_branco  = lista_votos.count(0)\n",
        "  votos_validos = list(filter(lambda x: x in lista_candidatos,lista_votos))\n",
        "  votos_nulos   = list(filter(lambda x: x not in lista_candidatos and x != 0,lista_votos))\n",
        "  relatorio = dict()\n",
        "  relatorio[\"votos_validos\"] = len(votos_validos)\n",
        "  relatorio[\"votos_nulos\"]   = len(votos_nulos)\n",
        "  relatorio[\"votos_branco\"]  = votos_branco\n",
        "  if len(votos_validos) > 0:\n",
        "      relatorio.update(votos_por_candidato(votos_validos,lista_candidatos))\n",
        "\n",
        "  return relatorio\n",
        "\n",
        "lista_votos = [10, 15, 23, 15, 0, 18, 10, 0, 12, 10]\n",
        "lista_candidatos = [10, 23, 18]\n",
        "print(contagem(lista_votos,lista_candidatos))\n",
        "print(contagem([18, 15, 23, 15, 0, 18, 10, 0, 12, 23, 10],[10, 23, 18]))\n",
        "print(contagem([5,8,10,0,1,0,3],[40,20,78]))\n",
        "print(contagem([5,8,10,0,1,0,3],[]))"
      ],
      "metadata": {
        "colab": {
          "base_uri": "https://localhost:8080/"
        },
        "id": "oNcoLYqOXDyC",
        "outputId": "44e6ec78-6b8f-4364-d32b-e34b4a7fa386"
      },
      "execution_count": null,
      "outputs": [
        {
          "output_type": "stream",
          "name": "stdout",
          "text": [
            "{'votos_validos': 5, 'votos_nulos': 3, 'votos_branco': 2, 'candidato_vencedor': 10, 'porcentagem_votos_validos': {10: 60.0, 23: 20.0, 18: 20.0}}\n",
            "{'votos_validos': 6, 'votos_nulos': 3, 'votos_branco': 2, 'candidatos_empatados': [10, 23, 18], 'porcentagem_votos_validos': {10: 33.33, 23: 33.33, 18: 33.33}}\n",
            "{'votos_validos': 0, 'votos_nulos': 5, 'votos_branco': 2}\n",
            "{'sem candidatos'}\n"
          ]
        }
      ]
    }
  ]
}