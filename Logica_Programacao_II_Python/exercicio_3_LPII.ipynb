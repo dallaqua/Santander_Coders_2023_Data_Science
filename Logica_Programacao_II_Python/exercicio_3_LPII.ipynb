{
  "nbformat": 4,
  "nbformat_minor": 0,
  "metadata": {
    "colab": {
      "provenance": [],
      "authorship_tag": "ABX9TyOV5LI9vaYMFPTfapGgD0Wm"
    },
    "kernelspec": {
      "name": "python3",
      "display_name": "Python 3"
    },
    "language_info": {
      "name": "python"
    }
  },
  "cells": [
    {
      "cell_type": "markdown",
      "source": [
        "Calculadora de Empréstimos Bancários\n",
        "\n",
        "https://brasilescola.uol.com.br/matematica/sac-sistema-amortizacoes-constantes.htm\n",
        "\n",
        "https://calculojuridico.com.br/calculadora-price-sac/"
      ],
      "metadata": {
        "id": "RdMBqCGpjCzv"
      }
    },
    {
      "cell_type": "code",
      "execution_count": 3,
      "metadata": {
        "id": "y2rUYKCx5Y5l",
        "colab": {
          "base_uri": "https://localhost:8080/"
        },
        "outputId": "01039d85-2944-45d7-c620-e47dd2e26122"
      },
      "outputs": [
        {
          "output_type": "stream",
          "name": "stdout",
          "text": [
            "Meses    Saldo devedor    Amortização    Juros    Prestação\n",
            "-------  ---------------  -------------  -------  -----------\n",
            "0        120000           -              -        -\n",
            "1        108000.0         12000.0        6000.0   18000.0\n",
            "2        96000.0          12000.0        5400.0   17400.0\n",
            "3        84000.0          12000.0        4800.0   16800.0\n",
            "4        72000.0          12000.0        4200.0   16200.0\n",
            "5        60000.0          12000.0        3600.0   15600.0\n",
            "6        48000.0          12000.0        3000.0   15000.0\n",
            "7        36000.0          12000.0        2400.0   14400.0\n",
            "8        24000.0          12000.0        1800.0   13800.0\n",
            "9        12000.0          12000.0        1200.0   13200.0\n",
            "10       -                12000.0        600.0    12600.0\n",
            "Total    -                120000.0       33000.0  153000.0\n",
            "\n",
            "Meses    Saldo devedor    Amortização        Juros              Prestação\n",
            "-------  ---------------  -----------------  -----------------  ------------------\n",
            "0        100000           -                  -                  -\n",
            "1        91666.67         8333.33            1000.0             9333.33\n",
            "2        83333.33         8333.33            916.67             9250.0\n",
            "3        75000.0          8333.33            833.33             9166.67\n",
            "4        66666.67         8333.33            750.0              9083.33\n",
            "5        58333.33         8333.33            666.67             9000.0\n",
            "6        50000.0          8333.33            583.33             8916.67\n",
            "7        41666.67         8333.33            500.0              8833.33\n",
            "8        33333.33         8333.33            416.67             8750.0\n",
            "9        25000.0          8333.33            333.33             8666.67\n",
            "10       16666.67         8333.33            250.0              8583.33\n",
            "11       8333.33          8333.33            166.67             8500.0\n",
            "12       -                8333.333333333334  83.33333333333337  8416.666666666668\n",
            "Total    -                99999.99999999999  6500.0             106500.00000000001\n",
            "\n",
            "Erro. Parâmetro(s) inválido(s)\n"
          ]
        }
      ],
      "source": [
        "from tabulate import tabulate\n",
        "\n",
        "def gera_relatorio_v2(saldo_devedor:list, amortizacao: list, juros: list, prestacao:list):\n",
        "\n",
        "  table = []\n",
        "  for m in range(len(saldo_devedor)):\n",
        "    try:\n",
        "      table.append([m,round(saldo_devedor[m],2),round(amortizacao[m],2),round(juros[m],2),round(prestacao[m],2)])\n",
        "    except:\n",
        "      table.append([m,saldo_devedor[m],amortizacao[m],juros[m],prestacao[m]])\n",
        "  table.append(['Total',saldo_devedor[-1],sum(amortizacao[1:]),sum(juros[1:]),sum(prestacao[1:])])\n",
        "  print(tabulate(table,headers=[\"Meses\",\"Saldo devedor\",\"Amortização\",\"Juros\",\"Prestação\"]))\n",
        "\n",
        "def calc_sac(valor_emprestimo:float, taxa_juros: float, numero_parcelas: int):\n",
        "\n",
        "  amortizacao = valor_emprestimo / numero_parcelas\n",
        "  saldo_devedor = [valor_emprestimo]\n",
        "  lista_amortizacao = ['-']\n",
        "  juros = ['-']\n",
        "  prestacoes = ['-']\n",
        "\n",
        "  for p in range(1,numero_parcelas+1):\n",
        "\n",
        "    saldo_devedor_mes = saldo_devedor[p-1] - amortizacao\n",
        "    saldo_devedor_mes = saldo_devedor_mes\n",
        "    juros_mes         = saldo_devedor[p-1] * taxa_juros/100\n",
        "    prestacao         = amortizacao + juros_mes\n",
        "    lista_amortizacao.append(amortizacao)\n",
        "    juros.append(juros_mes)\n",
        "\n",
        "    if p == numero_parcelas: saldo_devedor_mes = '-'\n",
        "    saldo_devedor.append(saldo_devedor_mes)\n",
        "    prestacoes.append(prestacao)\n",
        "\n",
        "  gera_relatorio_v2(saldo_devedor, lista_amortizacao, juros, prestacoes)\n",
        "\n",
        "def app_sac(valor_emprestimo:float, taxa_juros: float, numero_parcelas: int):\n",
        "  try:\n",
        "    calc_sac(valor_emprestimo, taxa_juros, numero_parcelas)\n",
        "  except:\n",
        "    print('Erro. Parâmetro(s) inválido(s)')\n",
        "\n",
        "\n",
        "app_sac(120000, 5, 10)\n",
        "print()\n",
        "app_sac(100000,1,12)\n",
        "print()\n",
        "app_sac(\"100000\",1,12)\n"
      ]
    }
  ]
}