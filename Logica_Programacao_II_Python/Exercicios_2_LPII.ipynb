{
  "nbformat": 4,
  "nbformat_minor": 0,
  "metadata": {
    "colab": {
      "provenance": [],
      "authorship_tag": "ABX9TyNsXtDw6z5tW79lFJFMRzsh"
    },
    "kernelspec": {
      "name": "python3",
      "display_name": "Python 3"
    },
    "language_info": {
      "name": "python"
    }
  },
  "cells": [
    {
      "cell_type": "markdown",
      "source": [
        "1. Crie uma lista de dicionários, onde cada dicionário representa um produto com informações como nome, preço e quantidade em estoque.\n",
        "Implemente uma função que adiciona um novo produto à lista, verificando se o produto já existe com base no nome antes de adicionar. Caso exista, atualize o preço e a quantidade."
      ],
      "metadata": {
        "id": "ChMYVJhqPwu2"
      }
    },
    {
      "cell_type": "code",
      "execution_count": 1,
      "metadata": {
        "colab": {
          "base_uri": "https://localhost:8080/"
        },
        "id": "AJ65eUipPpOb",
        "outputId": "6f040e3b-fe13-47dd-af7d-2929861c5380"
      },
      "outputs": [
        {
          "output_type": "stream",
          "name": "stdout",
          "text": [
            "[{'nome': 'shampoo', 'preco': 17.5, 'quantidade': 10}]\n",
            "[{'nome': 'shampoo', 'preco': 17.5, 'quantidade': 10}, {'nome': 'sabonete', 'preco': 3.5, 'quantidade': 20}]\n",
            "[{'nome': 'shampoo', 'preco': 17.5, 'quantidade': 10}, {'nome': 'sabonete', 'preco': 3.5, 'quantidade': 20}, {'nome': 'oleo', 'preco': 20.5, 'quantidade': 9}]\n",
            "[{'nome': 'shampoo', 'preco': 17.5, 'quantidade': 10}, {'nome': 'sabonete', 'preco': 3.5, 'quantidade': 20}, {'nome': 'oleo', 'preco': 10.7, 'quantidade': 30}]\n"
          ]
        }
      ],
      "source": [
        "def adiciona_produto(lista_dicionarios: list, novo_produto: dict) -> None:\n",
        "  for produto in lista_dicionarios:\n",
        "    if produto[\"nome\"] == novo_produto[\"nome\"]:\n",
        "      produto[\"preco\"] = novo_produto[\"preco\"]\n",
        "      produto[\"quantidade\"] = novo_produto[\"quantidade\"]\n",
        "      return\n",
        "  lista_dicionarios.append(novo_produto)\n",
        "\n",
        "lista_dicionarios = []\n",
        "adiciona_produto(lista_dicionarios,{\"nome\":\"shampoo\", \"preco\":17.50, \"quantidade\":10})\n",
        "print(lista_dicionarios)\n",
        "adiciona_produto(lista_dicionarios,{\"nome\":\"sabonete\", \"preco\":3.50, \"quantidade\":20})\n",
        "print(lista_dicionarios)\n",
        "adiciona_produto(lista_dicionarios,{\"nome\":\"oleo\", \"preco\":20.50, \"quantidade\":9})\n",
        "print(lista_dicionarios)\n",
        "adiciona_produto(lista_dicionarios,{\"nome\":\"oleo\", \"preco\":10.70, \"quantidade\":30})\n",
        "print(lista_dicionarios)\n"
      ]
    },
    {
      "cell_type": "code",
      "source": [
        "def reserva_voo(lista_voos: list, voo: str, passageiro: str) -> None:\n",
        "  for v in lista_voos:\n",
        "    if v[\"number\"] == voo:\n",
        "      if v[\"seats_available\"] > 0:\n",
        "        v[\"passengers\"].append(passageiro)\n",
        "        v[\"seats_available\"] -= 1\n",
        "        print(f\"Efetuada reserva do(a) passageiro(a) {passageiro} no voo {voo}\")\n",
        "      else:\n",
        "        print(f\"Sem assentos disponíveis no voo {voo}\")\n",
        "      return\n",
        "\n",
        "  print(f\"Voo {voo} não existe\")\n",
        "\n",
        "voos = [\n",
        "        {\n",
        "            'number': 'F001',\n",
        "            'origin': 'São Paulo',\n",
        "            'destination': 'Rio de Janeiro',\n",
        "            'date': '2023-07-27',\n",
        "            'time': '08:00',\n",
        "            'seats_available': 5,\n",
        "            'passengers': ['Joao','Maria','Eduardo','Jose','Fernanda','Renato']\n",
        "        },\n",
        "        {\n",
        "            'number': 'F002',\n",
        "            'origin': 'Rio de Janeiro',\n",
        "            'destination': 'Salvador',\n",
        "            'date': '2023-07-28',\n",
        "            'time': '10:30',\n",
        "            'seats_available': 3,\n",
        "            'passengers': ['Joao','Maria','Eduardo','Jose','Fernanda','Renato','Ana','Pedro']\n",
        "        }\n",
        "       ]\n",
        "\n",
        "reserva_voo(voos,'F001','Bruno')\n",
        "reserva_voo(voos,'F001','Andre')\n",
        "reserva_voo(voos,'F002','Everaldo')\n",
        "reserva_voo(voos,'F002','Beatriz')\n",
        "reserva_voo(voos,'F002','Paulo')\n",
        "reserva_voo(voos,'F002','Alessandra')\n",
        "reserva_voo(voos,'F003','Raquel')\n",
        "\n",
        "print(voos)"
      ],
      "metadata": {
        "colab": {
          "base_uri": "https://localhost:8080/"
        },
        "id": "x2t3nqdvpy4n",
        "outputId": "dc9915ec-8922-4125-ae32-f61275f51997"
      },
      "execution_count": null,
      "outputs": [
        {
          "output_type": "stream",
          "name": "stdout",
          "text": [
            "Efetuada reserva do(a) passageiro(a) Bruno no voo F001\n",
            "Efetuada reserva do(a) passageiro(a) Andre no voo F001\n",
            "Efetuada reserva do(a) passageiro(a) Everaldo no voo F002\n",
            "Efetuada reserva do(a) passageiro(a) Beatriz no voo F002\n",
            "Efetuada reserva do(a) passageiro(a) Paulo no voo F002\n",
            "Sem assentos disponíveis no voo F002\n",
            "Voo F003 não existe\n",
            "[{'number': 'F001', 'origin': 'São Paulo', 'destination': 'Rio de Janeiro', 'date': '2023-07-27', 'time': '08:00', 'seats_available': 3, 'passengers': ['Joao', 'Maria', 'Eduardo', 'Jose', 'Fernanda', 'Renato', 'Bruno', 'Andre']}, {'number': 'F002', 'origin': 'Rio de Janeiro', 'destination': 'Salvador', 'date': '2023-07-28', 'time': '10:30', 'seats_available': 0, 'passengers': ['Joao', 'Maria', 'Eduardo', 'Jose', 'Fernanda', 'Renato', 'Ana', 'Pedro', 'Everaldo', 'Beatriz', 'Paulo']}]\n"
          ]
        }
      ]
    },
    {
      "cell_type": "code",
      "source": [
        "def cancela_reserva(lista_voos: list,voo: str,passageiro: str) -> None:\n",
        "  for v in lista_voos:\n",
        "    if v[\"number\"] == voo:\n",
        "        if passageiro in v[\"passengers\"]:\n",
        "          v[\"passengers\"].remove(passageiro)\n",
        "          v[\"seats_available\"] += 1\n",
        "          print(f\"Reserva do(a) passageiro(a) {passageiro} no voo {voo} cancelada\")\n",
        "        else:\n",
        "          print(f\"Passageiro(a) {passageiro} não encontrado(a) no voo {voo}\")\n",
        "        return\n",
        "  print(f\"Voo {voo} não existe\")\n",
        "\n",
        "cancela_reserva(voos,'F003','Raquel')\n",
        "cancela_reserva(voos,'F002','Alessandra')\n",
        "cancela_reserva(voos,'F001','Eduardo')\n",
        "cancela_reserva(voos,'F002','Ana')\n",
        "\n",
        "print(voos)"
      ],
      "metadata": {
        "colab": {
          "base_uri": "https://localhost:8080/"
        },
        "id": "ZrY2Ch6It9t7",
        "outputId": "e06042dd-4d5d-43f0-91df-a712bd935a62"
      },
      "execution_count": null,
      "outputs": [
        {
          "output_type": "stream",
          "name": "stdout",
          "text": [
            "Voo F003 não existe\n",
            "Passageiro(a) Alessandra não encontrado(a) no voo F002\n",
            "Reserva do(a) passageiro(a) Eduardo no voo F001 cancelada\n",
            "Reserva do(a) passageiro(a) Ana no voo F002 cancelada\n",
            "[{'number': 'F001', 'origin': 'São Paulo', 'destination': 'Rio de Janeiro', 'date': '2023-07-27', 'time': '08:00', 'seats_available': 4, 'passengers': ['Joao', 'Maria', 'Jose', 'Fernanda', 'Renato', 'Bruno', 'Andre']}, {'number': 'F002', 'origin': 'Rio de Janeiro', 'destination': 'Salvador', 'date': '2023-07-28', 'time': '10:30', 'seats_available': 1, 'passengers': ['Joao', 'Maria', 'Eduardo', 'Jose', 'Fernanda', 'Renato', 'Pedro', 'Everaldo', 'Beatriz', 'Paulo']}]\n"
          ]
        }
      ]
    }
  ]
}