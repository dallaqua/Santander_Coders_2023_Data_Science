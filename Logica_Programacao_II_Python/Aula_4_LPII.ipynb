{
  "nbformat": 4,
  "nbformat_minor": 0,
  "metadata": {
    "colab": {
      "provenance": [],
      "authorship_tag": "ABX9TyPvtSNmNFtDDifpiaAup74v"
    },
    "kernelspec": {
      "name": "python3",
      "display_name": "Python 3"
    },
    "language_info": {
      "name": "python"
    }
  },
  "cells": [
    {
      "cell_type": "markdown",
      "source": [
        "# Funções"
      ],
      "metadata": {
        "id": "aBz3BnV9dqkG"
      }
    },
    {
      "cell_type": "code",
      "execution_count": 2,
      "metadata": {
        "colab": {
          "base_uri": "https://localhost:8080/"
        },
        "id": "UOnoAodnVQIn",
        "outputId": "5b8b6f59-ccc1-4d81-bbe3-d20a2e9e4725"
      },
      "outputs": [
        {
          "output_type": "stream",
          "name": "stdout",
          "text": [
            "['Amora', 'anotações']\n",
            "[]\n"
          ]
        }
      ],
      "source": [
        "#Crie uma função que receba uma lista de palavras como argumento e retorne uma nova lista com as palavras que começam com a letra \"A\".\n",
        "\n",
        "def palavras_comecam_com_A(lista_palavras: list) -> list:\n",
        "  lista_palavras_A = []\n",
        "  for palavra in lista_palavras:\n",
        "    if palavra[0].lower() == 'a':\n",
        "      lista_palavras_A.append(palavra)\n",
        "\n",
        "  return lista_palavras_A\n",
        "\n",
        "print(palavras_comecam_com_A([\"Bom\",\"Amora\",\"Pedra\",\"anotações\",\"obtuso\"]))\n",
        "print(palavras_comecam_com_A([\"Bom\",\"Pedra\",\"obtuso\"]))\n",
        "\n"
      ]
    },
    {
      "cell_type": "code",
      "source": [
        "#Faça uma função que calcule o número de dígitos de um número inteiro passado como argumento.\n",
        "def calc_numero_digitos(numero: int) -> int:\n",
        "  count = 0\n",
        "  while numero != 0:\n",
        "    numero = numero // 10\n",
        "    count += 1\n",
        "  return count\n",
        "\n",
        "def calc_numero_digitos_v2(numero: int) -> int:\n",
        "\n",
        "  return len(str(numero))\n",
        "\n",
        "print('V1')\n",
        "print(calc_numero_digitos(356))\n",
        "print(calc_numero_digitos(10))\n",
        "print(calc_numero_digitos(5))\n",
        "print(calc_numero_digitos(3569))\n",
        "\n",
        "print('V2')\n",
        "print(calc_numero_digitos_v2(356))\n",
        "print(calc_numero_digitos_v2(10))\n",
        "print(calc_numero_digitos_v2(5))\n",
        "print(calc_numero_digitos_v2(3569))"
      ],
      "metadata": {
        "colab": {
          "base_uri": "https://localhost:8080/"
        },
        "id": "58d3EqKXVSg_",
        "outputId": "07aea776-7972-4d34-b1f2-e721d7dbadb2"
      },
      "execution_count": 10,
      "outputs": [
        {
          "output_type": "stream",
          "name": "stdout",
          "text": [
            "V1\n",
            "3\n",
            "2\n",
            "1\n",
            "4\n",
            "V2\n",
            "3\n",
            "2\n",
            "1\n",
            "4\n"
          ]
        }
      ]
    },
    {
      "cell_type": "code",
      "source": [
        "#Escreva uma função que receba uma lista de strings e retorne uma nova lista com as strings em ordem alfabética (do menor para o maior).\n",
        "def ordem_alfabetica(lista_strings: list) -> list:\n",
        "  lista_ordenada = []\n",
        "  lista_copia    = lista_strings.copy()\n",
        "  while len(lista_copia) > 0:\n",
        "    menor = lista_copia[0]\n",
        "    for elem in lista_copia:\n",
        "        if elem.lower() < menor.lower():\n",
        "          menor = elem\n",
        "    lista_ordenada.append(menor)\n",
        "    lista_copia.remove(menor)\n",
        "\n",
        "  return lista_ordenada\n",
        "\n",
        "def ordem_alfabetica_v2(lista_strings: list)-> list:\n",
        "  lista_strings.sort(key=lambda v: v.upper())\n",
        "  return lista_strings\n",
        "\n",
        "print(ordem_alfabetica([\"Bom\",\"Amora\",\"Pedra\",\"anotações\",\"obtuso\"]))\n",
        "print(ordem_alfabetica_v2([\"Bom\",\"Amora\",\"Pedra\",\"anotações\",\"obtuso\"]))"
      ],
      "metadata": {
        "colab": {
          "base_uri": "https://localhost:8080/"
        },
        "id": "2J0sZKzRVU29",
        "outputId": "3219d533-abc8-48ac-a110-78d9aca6e6f7"
      },
      "execution_count": 22,
      "outputs": [
        {
          "output_type": "stream",
          "name": "stdout",
          "text": [
            "['Amora', 'anotações', 'Bom', 'obtuso', 'Pedra']\n",
            "['Amora', 'anotações', 'Bom', 'obtuso', 'Pedra']\n"
          ]
        }
      ]
    },
    {
      "cell_type": "code",
      "source": [
        "#Escreva uma função recursiva que realize a soma dos elementos de uma lista\n",
        "def soma_lista(lista_numeros: list):\n",
        "  if len(lista_numeros) == 0:\n",
        "    return 0\n",
        "  if len(lista_numeros) == 1:\n",
        "    return lista_numeros[0]\n",
        "  else:\n",
        "    return lista_numeros[len(lista_numeros)-1] + soma_lista(lista_numeros[0:len(lista_numeros)-1])\n",
        "\n",
        "print(soma_lista([1,2,3]))\n",
        "print(soma_lista([1]))\n",
        "print(soma_lista([5,6,7,8]))\n",
        "print(soma_lista([]))"
      ],
      "metadata": {
        "colab": {
          "base_uri": "https://localhost:8080/"
        },
        "id": "6PzaQ7fYZRSI",
        "outputId": "6f2895f9-5c74-4884-ac82-006a9230ea8b"
      },
      "execution_count": 21,
      "outputs": [
        {
          "output_type": "stream",
          "name": "stdout",
          "text": [
            "6\n",
            "1\n",
            "26\n",
            "0\n"
          ]
        }
      ]
    },
    {
      "cell_type": "markdown",
      "source": [
        "Filter, Map, Reduce"
      ],
      "metadata": {
        "id": "YBGfqSzmu5zz"
      }
    },
    {
      "cell_type": "code",
      "source": [
        "#Utilizando filter, crie uma função que receba uma lista de palavras e retorne uma nova lista contendo apenas as palavras com mais de 5 caracteres.\n",
        "def tamanho_palavra(palavra):\n",
        "  if len(palavra) > 5:\n",
        "    return True\n",
        "  return False\n",
        "\n",
        "def filtrar_palavras(palavras):\n",
        "  return list(filter(tamanho_palavra,palavras))\n",
        "\n",
        "print(filtrar_palavras(['olá','testando','este','é','numero','um','teste']))\n",
        "print(filtrar_palavras(['olá','este','é','um','teste']))\n",
        "\n",
        "\n"
      ],
      "metadata": {
        "colab": {
          "base_uri": "https://localhost:8080/"
        },
        "id": "_Ted4unXvbRl",
        "outputId": "b01791b7-8878-498e-91e8-3dc9b6dbb47f"
      },
      "execution_count": 37,
      "outputs": [
        {
          "output_type": "stream",
          "name": "stdout",
          "text": [
            "['testando', 'numero']\n",
            "[]\n"
          ]
        }
      ]
    },
    {
      "cell_type": "code",
      "source": [
        "#Utilizando map, crie uma função que receba uma lista de números e retorne uma nova lista contendo o dobro de cada número.\n",
        "def dobro(lista):\n",
        "  return list(map(lambda x: 2*x,lista))\n",
        "\n",
        "print(dobro([1,2,3,5]))\n",
        "print(dobro([]))"
      ],
      "metadata": {
        "colab": {
          "base_uri": "https://localhost:8080/"
        },
        "id": "ZGiK-4eXwG-B",
        "outputId": "b8ae2659-9d17-4d2f-9214-9fa72459cb1f"
      },
      "execution_count": 26,
      "outputs": [
        {
          "output_type": "stream",
          "name": "stdout",
          "text": [
            "[2, 4, 6, 10]\n",
            "[]\n"
          ]
        }
      ]
    },
    {
      "cell_type": "code",
      "source": [
        "#Utilizando reduce, crie uma função que receba uma lista de números e retorne o produto de todos os elementos.\n",
        "from functools import reduce\n",
        "def produto(lista):\n",
        "  if len(lista) == 0:\n",
        "    return 0\n",
        "  return reduce(lambda x,y: x*y, lista, 1)\n",
        "\n",
        "print(produto([1,2,3,5]))\n",
        "print(produto([]))"
      ],
      "metadata": {
        "colab": {
          "base_uri": "https://localhost:8080/"
        },
        "id": "yPkXdyviweRv",
        "outputId": "2dab66fc-9027-465e-de7c-0d43bba39581"
      },
      "execution_count": 38,
      "outputs": [
        {
          "output_type": "stream",
          "name": "stdout",
          "text": [
            "30\n",
            "0\n"
          ]
        }
      ]
    }
  ]
}
