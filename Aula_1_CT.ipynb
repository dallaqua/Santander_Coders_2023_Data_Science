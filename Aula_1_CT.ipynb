{
  "nbformat": 4,
  "nbformat_minor": 0,
  "metadata": {
    "colab": {
      "provenance": [],
      "authorship_tag": "ABX9TyOwNJvHMZ6DdQDJKQ+8DjfK"
    },
    "kernelspec": {
      "name": "python3",
      "display_name": "Python 3"
    },
    "language_info": {
      "name": "python"
    }
  },
  "cells": [
    {
      "cell_type": "markdown",
      "source": [
        "# Coding Tank - Aula 1"
      ],
      "metadata": {
        "id": "8DSmZ5d7gbqp"
      }
    },
    {
      "cell_type": "markdown",
      "source": [
        "\n",
        "\n",
        "Escrevam a frase abaixo, substituindo o nome/sobrenome/idade pelo de vocês, usando o print com format.\n",
        "\n",
        "Meu nome é aaa, tenho bbb anos, ccc na ddd, eee, fff, ggg, hhh, iii\n",
        "\n",
        "Onde cada um dos valores (aaa, bbb, etc) será uma variável\n"
      ],
      "metadata": {
        "id": "TPFSh8WioRU1"
      }
    },
    {
      "cell_type": "code",
      "execution_count": 1,
      "metadata": {
        "id": "0_Ur2SmGgbKN",
        "colab": {
          "base_uri": "https://localhost:8080/"
        },
        "outputId": "0dced293-f68f-4e0e-e8e6-ff3867f660c3"
      },
      "outputs": [
        {
          "output_type": "stream",
          "name": "stdout",
          "text": [
            "Olá, eu sou a Fernanda Dallaqua e tenho 31 anos, moro em Caçapava\n"
          ]
        }
      ],
      "source": [
        "nome = 'Fernanda'\n",
        "sobrenome = 'Dallaqua'\n",
        "idade = 31\n",
        "cidade = 'Caçapava'\n",
        "print('Olá, eu sou a {} {} e tenho {} anos, moro em {}'.format(nome,sobrenome,idade,cidade))"
      ]
    },
    {
      "cell_type": "markdown",
      "source": [
        "Agora escreva o mesmo print com f-string"
      ],
      "metadata": {
        "id": "__t3mWvJooc4"
      }
    },
    {
      "cell_type": "code",
      "source": [
        "print(f'Olá, eu sou a {nome} {sobrenome} e tenho {idade} anos, moro em {cidade}')"
      ],
      "metadata": {
        "colab": {
          "base_uri": "https://localhost:8080/"
        },
        "id": "7qgKWwbropFN",
        "outputId": "ae834997-ef76-4ba4-85d8-9df47ea48c52"
      },
      "execution_count": 2,
      "outputs": [
        {
          "output_type": "stream",
          "name": "stdout",
          "text": [
            "Olá, eu sou a Fernanda Dallaqua e tenho 31 anos, moro em Caçapava\n"
          ]
        }
      ]
    },
    {
      "cell_type": "markdown",
      "source": [
        "Escreva um programa que receba seu nome, sua idade e hobby e escreva uma única sentença que seja, por exemplo, \"Meu nome é x, tenho y anos e meu hobby é z\""
      ],
      "metadata": {
        "id": "QG4B5UX-otgK"
      }
    },
    {
      "cell_type": "code",
      "source": [
        "nome = input('Digite seu nome: ')\n",
        "idade = input('Digite sua idade: ')\n",
        "hobby = input('Digite seu hobby: ')\n",
        "print(f'Meu nome é {nome}, tenho {idade} anos e meu hobby é {hobby}')"
      ],
      "metadata": {
        "colab": {
          "base_uri": "https://localhost:8080/"
        },
        "id": "QWKCiaMQovmI",
        "outputId": "e6c9db92-471e-4e75-afea-3114b80c3497"
      },
      "execution_count": 3,
      "outputs": [
        {
          "output_type": "stream",
          "name": "stdout",
          "text": [
            "Digite seu nome: Fernanda\n",
            "Digite sua idade: 31\n",
            "Digite seu hobby: jogar futsal\n",
            "Meu nome é Fernanda, tenho 31 anos e meu hobby é jogar futsal\n"
          ]
        }
      ]
    },
    {
      "cell_type": "markdown",
      "source": [
        "Com tudo que vimos até o momento faça um programa que solicite ao usuário que insira seu ano de nascimento. Desconsiderando o mês do ano de nascimento, emita uma mensagem dizendo quantos anos ele possui."
      ],
      "metadata": {
        "id": "mAogDNSxo3HX"
      }
    },
    {
      "cell_type": "code",
      "source": [
        "import datetime\n",
        "nascimento = int(input('Digite o ano do seu nascimento: '))\n",
        "ano = datetime.datetime.now().year\n",
        "#ano = 2023\n",
        "idade = ano - nascimento\n",
        "print(f'Você tem {idade} anos')"
      ],
      "metadata": {
        "colab": {
          "base_uri": "https://localhost:8080/"
        },
        "id": "Obu9U3lio9XD",
        "outputId": "f1ed8137-b862-4b69-e179-411aebef1d4e"
      },
      "execution_count": 4,
      "outputs": [
        {
          "output_type": "stream",
          "name": "stdout",
          "text": [
            "Digite o ano do seu nascimento: 1991\n",
            "Você tem 32 anos\n"
          ]
        }
      ]
    },
    {
      "cell_type": "markdown",
      "source": [
        "Imagine que você está implementando um sistema para verificar se os alunos de uma turma estudantil passaram na disciplina ou não. Para isso solicite que o usuário insira as notas das 4 provas realizadas por um estudante e calcule a média. Após isso, emita uma resposta booleana (True ou False) se o estudante passou na disciplina pensando que a média mínima para aprovação é que seja pelo menos 5."
      ],
      "metadata": {
        "id": "woZ1ye4LpINB"
      }
    },
    {
      "cell_type": "code",
      "source": [
        "notas = input('Insira as notas das 4 provas, com ponto para decimal e separadas por vírgula: ')\n",
        "notas = notas.split(',')\n",
        "notas = [float(x) for x in notas]\n",
        "media = float(sum(notas))/4.0\n",
        "print('Média = {}'.format(media))\n",
        "if media >= 5.0:\n",
        "  print('Estudante aprovado')\n",
        "else:\n",
        "  print('Estudante reprovado')"
      ],
      "metadata": {
        "colab": {
          "base_uri": "https://localhost:8080/"
        },
        "id": "EhFFvt9ZpJRO",
        "outputId": "10c9ad59-6611-4f23-a092-7b8b319fdefa"
      },
      "execution_count": 5,
      "outputs": [
        {
          "output_type": "stream",
          "name": "stdout",
          "text": [
            "Insira as notas das 4 provas, com ponto para decimal e separadas por vírgula: 7.0, 8.5, 9.2, 1.3\n",
            "Média = 6.5\n",
            "Estudante aprovado\n"
          ]
        }
      ]
    },
    {
      "cell_type": "markdown",
      "source": [
        "Crie um algoritmo que calcule o IMC (índice de massa corporal). O IMC é calculado com a formula PESO/(ALTURA ^ 2). Para isso, coloque as informações nas variáveis e ao final apresente o resultado como no exemplo: \"O IMC é 18\""
      ],
      "metadata": {
        "id": "I-axI4I2pRVy"
      }
    },
    {
      "cell_type": "code",
      "source": [
        "peso   = float(input('Digite o peso: '))\n",
        "altura = float(input('Digite a altura: '))\n",
        "imc    = peso/(altura**2)\n",
        "print('O IMC é {:.2f}'.format(imc))"
      ],
      "metadata": {
        "colab": {
          "base_uri": "https://localhost:8080/"
        },
        "id": "IzLIDVkspT5Z",
        "outputId": "64441fc6-0656-4811-f3c5-8a79fd76e51b"
      },
      "execution_count": 6,
      "outputs": [
        {
          "output_type": "stream",
          "name": "stdout",
          "text": [
            "Digite o peso: 55\n",
            "Digite a altura: 1.61\n",
            "O IMC é 21.22\n"
          ]
        }
      ]
    },
    {
      "cell_type": "markdown",
      "source": [
        "Escreva um algoritmo que calcule (x + y) * (x + y). Os valores de x e y devem ser inseridos pelo usuário"
      ],
      "metadata": {
        "id": "Gr2g-p7rpav-"
      }
    },
    {
      "cell_type": "code",
      "source": [
        "x     = float(input('Digite o valor de x: '))\n",
        "y     = float(input('Digite o valor de y: '))\n",
        "value = (x+y)**2\n",
        "print(f'(x + y) * (x + y) = {value}')"
      ],
      "metadata": {
        "colab": {
          "base_uri": "https://localhost:8080/"
        },
        "id": "CDSPbFVzpdXk",
        "outputId": "58af3ca4-b6a9-48f7-ff15-4fc168dc8589"
      },
      "execution_count": 7,
      "outputs": [
        {
          "output_type": "stream",
          "name": "stdout",
          "text": [
            "Digite o valor de x: 5.5\n",
            "Digite o valor de y: -1.5\n",
            "(x + y) * (x + y) = 16.0\n"
          ]
        }
      ]
    }
  ]
}