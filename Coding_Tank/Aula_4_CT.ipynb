{
  "nbformat": 4,
  "nbformat_minor": 0,
  "metadata": {
    "colab": {
      "provenance": [],
      "authorship_tag": "ABX9TyPi+ihycnVoYqXqWyGNzzHZ"
    },
    "kernelspec": {
      "name": "python3",
      "display_name": "Python 3"
    },
    "language_info": {
      "name": "python"
    }
  },
  "cells": [
    {
      "cell_type": "markdown",
      "source": [
        "# Coding Tank - Aula 4"
      ],
      "metadata": {
        "id": "7KR7THqzzgJG"
      }
    },
    {
      "cell_type": "markdown",
      "source": [
        "# Listas"
      ],
      "metadata": {
        "id": "AVpgUCyw0CTc"
      }
    },
    {
      "cell_type": "markdown",
      "source": [
        "1) Crie uma lista qualquer e faça um programa que imprima cada elemento da lista usando o for."
      ],
      "metadata": {
        "id": "EfCrDXriznCz"
      }
    },
    {
      "cell_type": "code",
      "execution_count": 1,
      "metadata": {
        "colab": {
          "base_uri": "https://localhost:8080/"
        },
        "id": "bauP9chszcYT",
        "outputId": "91ec921a-4c82-49e9-f60c-aae918d638fc"
      },
      "outputs": [
        {
          "output_type": "stream",
          "name": "stdout",
          "text": [
            "1 5 7 3 2 8 9 10 15 "
          ]
        }
      ],
      "source": [
        "lista = [1,5,7,3,2,8,9,10,15]\n",
        "for elem in lista:\n",
        "  print(elem,end=' ')"
      ]
    },
    {
      "cell_type": "markdown",
      "source": [
        "2) Faça um programa que imprima todos os itens de uma lista usando while e compare com o exercício 1."
      ],
      "metadata": {
        "id": "tXxpmMtOzwof"
      }
    },
    {
      "cell_type": "code",
      "source": [
        "lista = [1,5,7,3,2,8,9,10,15]\n",
        "contador = 0\n",
        "while contador < len(lista):\n",
        "  print(lista[contador], end=' ')\n",
        "  contador += 1"
      ],
      "metadata": {
        "colab": {
          "base_uri": "https://localhost:8080/"
        },
        "id": "_osO_T_MzsR8",
        "outputId": "eed30901-06f1-4a58-d639-83f51d266f2a"
      },
      "execution_count": 2,
      "outputs": [
        {
          "output_type": "stream",
          "name": "stdout",
          "text": [
            "1 5 7 3 2 8 9 10 15 "
          ]
        }
      ]
    },
    {
      "cell_type": "markdown",
      "source": [
        "3) Faça um programa que peça para o usuário digitar um número n e imprima uma lista com todos os números de 0 a n-1."
      ],
      "metadata": {
        "id": "6jngrvzDz1O_"
      }
    },
    {
      "cell_type": "code",
      "source": [
        "n = int(input('Digite um número: '))\n",
        "lista = list(range(0,n))\n",
        "print(lista)"
      ],
      "metadata": {
        "colab": {
          "base_uri": "https://localhost:8080/"
        },
        "id": "eW4OJCT2z1-g",
        "outputId": "b4055313-f848-463e-d55d-6ba2dc3a9745"
      },
      "execution_count": 3,
      "outputs": [
        {
          "output_type": "stream",
          "name": "stdout",
          "text": [
            "Digite um número: 10\n",
            "[0, 1, 2, 3, 4, 5, 6, 7, 8, 9]\n"
          ]
        }
      ]
    },
    {
      "cell_type": "markdown",
      "source": [
        "# Funções"
      ],
      "metadata": {
        "id": "SMCJHgL10Fgl"
      }
    },
    {
      "cell_type": "markdown",
      "source": [
        "1) Escreva uma função que calcule e retorne o dobro de um número inserido. Teste este caso solicitando ao usuário que insira um número e após isso, retorne a resposta."
      ],
      "metadata": {
        "id": "oofE-_Ttz95m"
      }
    },
    {
      "cell_type": "code",
      "source": [
        "def dobro(n: float) -> float:\n",
        "  return n * 2\n",
        "\n",
        "numero = float(input('Digite um número: '))\n",
        "print(dobro(numero))"
      ],
      "metadata": {
        "colab": {
          "base_uri": "https://localhost:8080/"
        },
        "id": "gNlCd2ZU0IGq",
        "outputId": "49b10c30-846c-4734-e937-c8f08db7e6d4"
      },
      "execution_count": 4,
      "outputs": [
        {
          "output_type": "stream",
          "name": "stdout",
          "text": [
            "Digite um número: 45.5\n",
            "91.0\n"
          ]
        }
      ]
    },
    {
      "cell_type": "markdown",
      "source": [
        "2) Crie uma função para cálculo do comprimento da circunferência (C = 2 * 3.14 * R), sendo C o comprimento e R o raio da circunferência"
      ],
      "metadata": {
        "id": "GusQlU850Mvf"
      }
    },
    {
      "cell_type": "code",
      "source": [
        "def comprimento(r: float) -> float:\n",
        "  return round(2 * 3.14 * r,3)\n",
        "\n",
        "print(comprimento(5))"
      ],
      "metadata": {
        "colab": {
          "base_uri": "https://localhost:8080/"
        },
        "id": "QxGCEFxt0N0C",
        "outputId": "37d7e174-3b7a-4828-cc26-6e8f6d7f39d4"
      },
      "execution_count": 5,
      "outputs": [
        {
          "output_type": "stream",
          "name": "stdout",
          "text": [
            "31.4\n"
          ]
        }
      ]
    },
    {
      "cell_type": "markdown",
      "source": [
        "3) Faça uma função que emita uma saudação baseada no horário. A função deve receber o nome e o horário (apenas número inteiro) e emita a mensagem com as seguintes condições:\n",
        "- até meio dia (não incluso): \"Bom dia, (VARIAVEL_NOME)\"\n",
        "- entre meio dia (incluso) e 18h (não incluso): \"Boa tarde, (VARIAVEL_NOME)\"\n",
        "- após as 18h (incluso): \"Boa noite, (VARIAVEL_NOME)\"\n",
        "\n"
      ],
      "metadata": {
        "id": "SvDbEYLu0S3t"
      }
    },
    {
      "cell_type": "code",
      "source": [
        "def saudacao(nome: str, hora: int) -> None:\n",
        "  if 0 <= hora < 12:\n",
        "    print(f'Bom dia, {nome}')\n",
        "  elif 12 <= hora < 18:\n",
        "    print(f'Boa tarde, {nome}')\n",
        "  elif 18 <= hora < 24:\n",
        "    print(f'Boa noite, {nome}')\n",
        "  else:\n",
        "    print('Hora inválida')\n",
        "\n",
        "saudacao('Fernanda',0)\n",
        "saudacao('Fernanda',9)\n",
        "saudacao('Fernanda',12)\n",
        "saudacao('Fernanda',15)\n",
        "saudacao('Fernanda',18)\n",
        "saudacao('Fernanda',22)\n",
        "saudacao('Fernanda',30)\n"
      ],
      "metadata": {
        "colab": {
          "base_uri": "https://localhost:8080/"
        },
        "id": "8GZBWO_q0bp2",
        "outputId": "1e03212b-119f-4d7a-ac38-6bb70ef1b0ad"
      },
      "execution_count": 6,
      "outputs": [
        {
          "output_type": "stream",
          "name": "stdout",
          "text": [
            "Bom dia, Fernanda\n",
            "Bom dia, Fernanda\n",
            "Boa tarde, Fernanda\n",
            "Boa tarde, Fernanda\n",
            "Boa noite, Fernanda\n",
            "Boa noite, Fernanda\n",
            "Hora inválida\n"
          ]
        }
      ]
    }
  ]
}
