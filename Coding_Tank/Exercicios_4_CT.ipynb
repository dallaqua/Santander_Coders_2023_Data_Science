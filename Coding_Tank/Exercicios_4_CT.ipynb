{
  "nbformat": 4,
  "nbformat_minor": 0,
  "metadata": {
    "colab": {
      "provenance": [],
      "authorship_tag": "ABX9TyPXpb0NICWHmcUR142xMZDG"
    },
    "kernelspec": {
      "name": "python3",
      "display_name": "Python 3"
    },
    "language_info": {
      "name": "python"
    }
  },
  "cells": [
    {
      "cell_type": "markdown",
      "source": [
        "# Coding Tank - Tarefa da aula 4"
      ],
      "metadata": {
        "id": "AnHskG3v00K4"
      }
    },
    {
      "cell_type": "markdown",
      "source": [
        "# Listas"
      ],
      "metadata": {
        "id": "ckjqZh8E2HRz"
      }
    },
    {
      "cell_type": "markdown",
      "source": [
        "1) Faça um programa que olhe todos os itens de uma lista e diga quantos deles são pares."
      ],
      "metadata": {
        "id": "LS1SeTSY05be"
      }
    },
    {
      "cell_type": "code",
      "execution_count": 1,
      "metadata": {
        "colab": {
          "base_uri": "https://localhost:8080/"
        },
        "id": "ez5pbC4J0xeH",
        "outputId": "b7c191f8-b820-4cf1-e8f2-41a174c8e2fe"
      },
      "outputs": [
        {
          "output_type": "stream",
          "name": "stdout",
          "text": [
            "5 elementos pares na lista\n"
          ]
        }
      ],
      "source": [
        "lista = [1,3,5,2,4,16,18,9,3,7,10]\n",
        "\n",
        "count_pares = 0\n",
        "\n",
        "for elem in lista:\n",
        "  if elem % 2 == 0:\n",
        "    count_pares += 1\n",
        "print(f'{count_pares} elementos pares na lista')"
      ]
    },
    {
      "cell_type": "markdown",
      "source": [
        "2) Faça um programa que imprima o maior número de uma lista, sem usar o método max()."
      ],
      "metadata": {
        "id": "Gkk0Nuqn1Art"
      }
    },
    {
      "cell_type": "code",
      "source": [
        "lista = [1,3,5,2,4,16,18,9,3,7,10]\n",
        "\n",
        "maior = lista[0]\n",
        "\n",
        "for elem in lista:\n",
        "  if elem > maior:\n",
        "    maior = elem\n",
        "\n",
        "print(f'Maior = {maior}')"
      ],
      "metadata": {
        "colab": {
          "base_uri": "https://localhost:8080/"
        },
        "id": "8BUMTqTg1Bun",
        "outputId": "632b5926-d18c-42b2-cef4-110f632004bc"
      },
      "execution_count": 2,
      "outputs": [
        {
          "output_type": "stream",
          "name": "stdout",
          "text": [
            "Maior = 18\n"
          ]
        }
      ]
    },
    {
      "cell_type": "markdown",
      "source": [
        "3) Agora usando o método max() faça um programa que imprima os três maiores números de uma lista."
      ],
      "metadata": {
        "id": "_Hsldmq_1E29"
      }
    },
    {
      "cell_type": "code",
      "source": [
        "lista = [1,3,5,2,4,16,18,9,3,7,10]\n",
        "maior1 = max(lista)\n",
        "lista.remove(maior1)\n",
        "maior2 = max(lista)\n",
        "lista.remove(maior2)\n",
        "maior3 = max(lista)\n",
        "lista.remove(maior3)\n",
        "\n",
        "print(f'1o maior: {maior1}',f'2o maior: {maior2}',f'3o maior: {maior3}',sep='\\n')"
      ],
      "metadata": {
        "colab": {
          "base_uri": "https://localhost:8080/"
        },
        "id": "pDNTheJQ1I84",
        "outputId": "4308f81c-b798-4455-b8cd-cdab61f4d758"
      },
      "execution_count": 3,
      "outputs": [
        {
          "output_type": "stream",
          "name": "stdout",
          "text": [
            "1o maior: 18\n",
            "2o maior: 16\n",
            "3o maior: 10\n"
          ]
        }
      ]
    },
    {
      "cell_type": "markdown",
      "source": [
        "4) Faça um programa que, dadas duas listas de mesmo tamanho, crie uma nova lista com cada elemento igual a soma dos elementos da lista 1 com os da lista 2, na mesma posição."
      ],
      "metadata": {
        "id": "MeBBP98P1MoO"
      }
    },
    {
      "cell_type": "code",
      "source": [
        "lista1 = [1,2,3,4]\n",
        "lista2 = [5,6,7,8]\n",
        "\n",
        "#lista1 = [1, 2, 3, 4, 5]\n",
        "#lista2 = [6, 7, 8, 9, 10]\n",
        "\n",
        "if len(lista1) == len(lista2):\n",
        "  lista3 = []\n",
        "  for i in range(len(lista1)):\n",
        "    lista3.append(lista1[i]+lista2[i])\n",
        "  print(f'Soma das listas: {lista3}')\n",
        "else:\n",
        "  print('Listas de tamanhos diferentes.')"
      ],
      "metadata": {
        "colab": {
          "base_uri": "https://localhost:8080/"
        },
        "id": "3Y9AswOi1PeW",
        "outputId": "a200cda3-b96e-4050-a63e-5ab82e2d7820"
      },
      "execution_count": 7,
      "outputs": [
        {
          "output_type": "stream",
          "name": "stdout",
          "text": [
            "Soma das listas: [6, 8, 10, 12]\n"
          ]
        }
      ]
    },
    {
      "cell_type": "markdown",
      "source": [
        "5) Faça um programa que dadas duas listas de mesmo tamanho, imprima o produto escalar entre elas."
      ],
      "metadata": {
        "id": "WF_T4_mI1cga"
      }
    },
    {
      "cell_type": "code",
      "source": [
        "lista1 = [1,2,3,4]\n",
        "lista2 = [5,6,7,8]\n",
        "\n",
        "if len(lista1) == len(lista2):\n",
        "  lista3 = []\n",
        "  for i in range(len(lista1)):\n",
        "    lista3.append(lista1[i]*lista2[i])\n",
        "  prod_escalar = sum(lista3)\n",
        "  print(f'Produto escalar: {prod_escalar}')\n",
        "else:\n",
        "  print('Listas de tamanhos diferentes.')"
      ],
      "metadata": {
        "colab": {
          "base_uri": "https://localhost:8080/"
        },
        "id": "j1BadlLT1eAV",
        "outputId": "e3657120-afbe-485d-fdc4-8bea8aa06a80"
      },
      "execution_count": 8,
      "outputs": [
        {
          "output_type": "stream",
          "name": "stdout",
          "text": [
            "Produto escalar: 70\n"
          ]
        }
      ]
    },
    {
      "cell_type": "markdown",
      "source": [
        "6) Faça um programa que pede para o usuário digitar 5 números e, ao final, imprime uma lista com os 5 números digitados pelo usuário (sem converter os números para int ou float)."
      ],
      "metadata": {
        "id": "SG4856H01ioV"
      }
    },
    {
      "cell_type": "code",
      "source": [
        "numeros = []\n",
        "for i in range(1,6):\n",
        "  numero = input(f'Digite o {i}o número: ')\n",
        "  numeros.append(numero)\n",
        "print(numeros)"
      ],
      "metadata": {
        "colab": {
          "base_uri": "https://localhost:8080/"
        },
        "id": "wGwP75Q91lfc",
        "outputId": "fbfe676c-5d2b-476e-ab4c-302a0fd19525"
      },
      "execution_count": 9,
      "outputs": [
        {
          "output_type": "stream",
          "name": "stdout",
          "text": [
            "Digite o 1o número: 10\n",
            "Digite o 2o número: 8.3\n",
            "Digite o 3o número: 9.5\n",
            "Digite o 4o número: 0\n",
            "Digite o 5o número: 1\n",
            "['10', '8.3', '9.5', '0', '1']\n"
          ]
        }
      ]
    },
    {
      "cell_type": "markdown",
      "source": [
        "7) Pegue a lista gerada no exercício anterior e transforme cada um dos itens dessa lista em um float."
      ],
      "metadata": {
        "id": "xsmQ-tCh1tQG"
      }
    },
    {
      "cell_type": "code",
      "source": [
        "lista_float = []\n",
        "for elem in numeros:\n",
        "  lista_float.append(float(elem))\n",
        "print(lista_float)"
      ],
      "metadata": {
        "colab": {
          "base_uri": "https://localhost:8080/"
        },
        "id": "3MvpT7ph1whr",
        "outputId": "e6bc89ad-aa83-4ecf-ab1b-754879be1014"
      },
      "execution_count": 11,
      "outputs": [
        {
          "output_type": "stream",
          "name": "stdout",
          "text": [
            "[10.0, 8.3, 9.5, 0.0, 1.0]\n"
          ]
        }
      ]
    },
    {
      "cell_type": "markdown",
      "source": [
        "8) Faça um Programa que peça as 4 notas bimestrais e mostre a média, usando listas."
      ],
      "metadata": {
        "id": "JzxXDgl716LL"
      }
    },
    {
      "cell_type": "code",
      "source": [
        "notas = []\n",
        "for i in range(1,5):\n",
        "  nota = float(input(f'Digite a nota do {i}o bimestre: '))\n",
        "  notas.append(nota)\n",
        "media = sum(notas) / float(len(notas))\n",
        "print(f'Media: {media}')"
      ],
      "metadata": {
        "colab": {
          "base_uri": "https://localhost:8080/"
        },
        "id": "yZoO_nFE19MV",
        "outputId": "b7b2f6a8-b5c8-4ef2-f1f9-39159d6a45a4"
      },
      "execution_count": 12,
      "outputs": [
        {
          "output_type": "stream",
          "name": "stdout",
          "text": [
            "Digite a nota do 1o bimestre: 8.5\n",
            "Digite a nota do 2o bimestre: 5.3\n",
            "Digite a nota do 3o bimestre: 3.8\n",
            "Digite a nota do 4o bimestre: 9.7\n",
            "Media: 6.825\n"
          ]
        }
      ]
    },
    {
      "cell_type": "markdown",
      "source": [
        "# Funções"
      ],
      "metadata": {
        "id": "gDywxTXi2DF5"
      }
    },
    {
      "cell_type": "markdown",
      "source": [
        "1) Faça uma função que verifique se um número é par. Teste esta função solicitando ao usuário que digite um número e emitindo a mensagem adequada caso o número seja par ou não."
      ],
      "metadata": {
        "id": "XCTYah8Q2Log"
      }
    },
    {
      "cell_type": "code",
      "source": [
        "def par(numero: int) -> None:\n",
        "  if numero % 2 == 0:\n",
        "    print('O número é par')\n",
        "  else:\n",
        "    print('O número não é par')\n",
        "\n",
        "par(2)\n",
        "par(5)\n",
        "par(1094850)\n",
        "par(987)"
      ],
      "metadata": {
        "colab": {
          "base_uri": "https://localhost:8080/"
        },
        "id": "yb0fd83N2N5M",
        "outputId": "60dc8e78-d717-44a5-cd6a-33a75f7bf2ad"
      },
      "execution_count": 13,
      "outputs": [
        {
          "output_type": "stream",
          "name": "stdout",
          "text": [
            "O número é par\n",
            "O número não é par\n",
            "O número é par\n",
            "O número não é par\n"
          ]
        }
      ]
    },
    {
      "cell_type": "markdown",
      "source": [
        "2) Crie uma função que recebe duas listas. Caso estas duas listas sejam do mesmo tamanho some os elementos de cada lista com mesmo índica, caso contrário retorne uma lista vazia.\n",
        "Se as duas listas de entrada forem do mesmo tamanho o programa deve se comportar como no exemplo:\n",
        "```python\n",
        "lista_01 = [1, 2, 3, 4, 5]\n",
        "lista_02 = [6, 7, 8, 9, 10]\n",
        "\n",
        "soma_listas(lista_01, lista_02)\n",
        "```\n",
        "saída:\n",
        "\n",
        "```\n",
        "[7, 9, 11, 13, 15]"
      ],
      "metadata": {
        "id": "6-9azS-j2W9x"
      }
    },
    {
      "cell_type": "code",
      "source": [
        "def soma_listas(lista1: list, lista2: list) -> list:\n",
        "  lista_soma = []\n",
        "  if len(lista1) == len(lista2):\n",
        "    for i in range(len(lista1)):\n",
        "      lista_soma.append(lista1[i]+lista2[i])\n",
        "  return lista_soma\n",
        "\n",
        "lista_01 = [1, 2, 3, 4, 5]\n",
        "lista_02 = [6, 7, 8, 9, 10]\n",
        "\n",
        "print(soma_listas(lista_01, lista_02))\n",
        "\n",
        "lista_02 = [6, 7, 8, 9, 10, 11]\n",
        "print(soma_listas(lista_01, lista_02))"
      ],
      "metadata": {
        "colab": {
          "base_uri": "https://localhost:8080/"
        },
        "id": "68YBvEKj2YZO",
        "outputId": "0e2fd239-5454-42f8-bf36-40a9af930c44"
      },
      "execution_count": 14,
      "outputs": [
        {
          "output_type": "stream",
          "name": "stdout",
          "text": [
            "[7, 9, 11, 13, 15]\n",
            "[]\n"
          ]
        }
      ]
    },
    {
      "cell_type": "markdown",
      "source": [
        "3) Utilize a mesma lógica do exercício anterior, porém agora você deve multiplicar os elementos ao invés de somá-los."
      ],
      "metadata": {
        "id": "kvQlAcmZ2i-O"
      }
    },
    {
      "cell_type": "code",
      "source": [
        "def multiplica_listas(lista1: list, lista2: list) -> list:\n",
        "  lista_mult = []\n",
        "  if len(lista1) == len(lista2):\n",
        "    for i in range(len(lista1)):\n",
        "      lista_mult.append(lista1[i]*lista2[i])\n",
        "  return lista_mult\n",
        "\n",
        "lista_01 = [1, 2, 3, 4, 5]\n",
        "lista_02 = [6, 7, 8, 9, 10]\n",
        "\n",
        "print(multiplica_listas(lista_01, lista_02))\n",
        "\n",
        "lista_02 = [6, 7, 8, 9, 10, 11]\n",
        "print(multiplica_listas(lista_01, lista_02))"
      ],
      "metadata": {
        "colab": {
          "base_uri": "https://localhost:8080/"
        },
        "id": "hkzoUYEs2prz",
        "outputId": "c82cbf5e-fa94-42c8-d5de-9051fb016e42"
      },
      "execution_count": 15,
      "outputs": [
        {
          "output_type": "stream",
          "name": "stdout",
          "text": [
            "[6, 14, 24, 36, 50]\n",
            "[]\n"
          ]
        }
      ]
    },
    {
      "cell_type": "markdown",
      "source": [
        "4) Faça uma função que recebe uma lista de números e calcula a média destes números."
      ],
      "metadata": {
        "id": "K0YJchED2rt_"
      }
    },
    {
      "cell_type": "code",
      "source": [
        "def media(lista: list) -> float:\n",
        "  if len(lista) > 0:\n",
        "    return float(sum(lista))/float(len(lista))\n",
        "  else:\n",
        "    return 'Lista vazia'\n",
        "\n",
        "lista = [1,2,3,4,5,6,7]\n",
        "print(media(lista))\n",
        "\n",
        "print(media([]))"
      ],
      "metadata": {
        "colab": {
          "base_uri": "https://localhost:8080/"
        },
        "id": "bBzjYp9D2vZH",
        "outputId": "ea415d9d-9e25-49ec-b437-ff068c95dfa2"
      },
      "execution_count": 16,
      "outputs": [
        {
          "output_type": "stream",
          "name": "stdout",
          "text": [
            "4.0\n",
            "Lista vazia\n"
          ]
        }
      ]
    },
    {
      "cell_type": "markdown",
      "source": [
        "5) Faça uma função que calcula o fatorial de um número."
      ],
      "metadata": {
        "id": "0o7FpNc521EG"
      }
    },
    {
      "cell_type": "code",
      "source": [
        "#recursivo\n",
        "def fatorial(numero: int) -> any:\n",
        "  if numero < 0:\n",
        "    return 'Valor inválido'\n",
        "  elif numero <= 1:\n",
        "    return 1\n",
        "  else:\n",
        "    return numero * fatorial(numero - 1)\n",
        "\n",
        "print(fatorial(-1))\n",
        "print(fatorial(0))\n",
        "print(fatorial(1))\n",
        "print(fatorial(2))\n",
        "print(fatorial(3))\n",
        "print(fatorial(4))\n",
        "print(fatorial(5))"
      ],
      "metadata": {
        "colab": {
          "base_uri": "https://localhost:8080/"
        },
        "id": "La2WQnDS22Sr",
        "outputId": "0bd9b12c-5cbd-408d-dcae-be391cf02332"
      },
      "execution_count": 17,
      "outputs": [
        {
          "output_type": "stream",
          "name": "stdout",
          "text": [
            "Valor inválido\n",
            "1\n",
            "1\n",
            "2\n",
            "6\n",
            "24\n",
            "120\n"
          ]
        }
      ]
    },
    {
      "cell_type": "code",
      "source": [
        "#iterativo\n",
        "def calc_fatorial(numero: int) -> any:\n",
        "  if numero >= 0:\n",
        "    fatorial = 1\n",
        "    while numero >= 1:\n",
        "      fatorial *= numero\n",
        "      numero -= 1\n",
        "    return fatorial\n",
        "  return 'Valor inválido'\n",
        "print(calc_fatorial(-1))\n",
        "print(calc_fatorial(0))\n",
        "print(calc_fatorial(1))\n",
        "print(calc_fatorial(2))\n",
        "print(calc_fatorial(3))\n",
        "print(calc_fatorial(4))\n",
        "print(calc_fatorial(5))"
      ],
      "metadata": {
        "colab": {
          "base_uri": "https://localhost:8080/"
        },
        "id": "4QjhjRhI3EwK",
        "outputId": "420a23ac-b312-461b-9300-81e622aaf9c2"
      },
      "execution_count": 18,
      "outputs": [
        {
          "output_type": "stream",
          "name": "stdout",
          "text": [
            "Valor inválido\n",
            "1\n",
            "1\n",
            "2\n",
            "6\n",
            "24\n",
            "120\n"
          ]
        }
      ]
    }
  ]
}
