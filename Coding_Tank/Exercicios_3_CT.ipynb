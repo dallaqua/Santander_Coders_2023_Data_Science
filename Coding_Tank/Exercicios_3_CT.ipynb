{
  "nbformat": 4,
  "nbformat_minor": 0,
  "metadata": {
    "colab": {
      "provenance": [],
      "authorship_tag": "ABX9TyNGF6/NTein9kk7vE220/71"
    },
    "kernelspec": {
      "name": "python3",
      "display_name": "Python 3"
    },
    "language_info": {
      "name": "python"
    }
  },
  "cells": [
    {
      "cell_type": "markdown",
      "source": [
        "# Coding Tank - Tarefa da aula 3"
      ],
      "metadata": {
        "id": "5J6hJ_IYyHZt"
      }
    },
    {
      "cell_type": "markdown",
      "source": [
        "1) Pergunte um usuário quantas provas ele fez, depois pergunte a nota de todas as provas. Calcule a média e caso seja maior ou igual a 6 informe que ele está aprovado, se não reprovado."
      ],
      "metadata": {
        "id": "g7IvRy4oyNbJ"
      }
    },
    {
      "cell_type": "code",
      "execution_count": 1,
      "metadata": {
        "colab": {
          "base_uri": "https://localhost:8080/"
        },
        "id": "DjjmNvNWx-YL",
        "outputId": "099df168-da73-4b41-abe4-7cd5150f7ddc"
      },
      "outputs": [
        {
          "output_type": "stream",
          "name": "stdout",
          "text": [
            "Digite o número de provas: 5\n",
            "Digite a nota da prova 1: 8\n",
            "Digite a nota da prova 2: 9\n",
            "Digite a nota da prova 3: 10\n",
            "Digite a nota da prova 4: 4\n",
            "Digite a nota da prova 5: 2\n",
            "Média = 6.60\n",
            "Você foi aprovado\n"
          ]
        }
      ],
      "source": [
        "num_provas = int(input('Digite o número de provas: '))\n",
        "count = 1\n",
        "soma  = 0.0\n",
        "while count <= num_provas:\n",
        "    nota   = float(input(f'Digite a nota da prova {count}: '))\n",
        "    soma  += nota\n",
        "    count += 1\n",
        "media = soma / float(num_provas)\n",
        "print(f\"Média = {media:.2f}\")\n",
        "if media >= 6:\n",
        "  print('Você foi aprovado')\n",
        "else:\n",
        "  print('Você foi reprovado')"
      ]
    },
    {
      "cell_type": "markdown",
      "source": [
        "2) Faça um programa que o usuário digite quantos números quiser, ate que digite sair. Retorne a soma e a média dos números digitados."
      ],
      "metadata": {
        "id": "LBjOmbvDyjGr"
      }
    },
    {
      "cell_type": "code",
      "source": [
        "soma     = 0.0\n",
        "contador = 0\n",
        "numero   = input('Digite um número: ')\n",
        "while numero != 'sair':\n",
        "  numero    = float(numero)\n",
        "  soma     += numero\n",
        "  contador += 1\n",
        "  numero   = input('Digite um número: ')\n",
        "\n",
        "if contador > 0:\n",
        "    media = soma / float(contador)\n",
        "else:\n",
        "    media = 0\n",
        "print(f\"Soma = {soma} Média = {media:.3f}\")"
      ],
      "metadata": {
        "colab": {
          "base_uri": "https://localhost:8080/"
        },
        "id": "5rCAikl-ylQQ",
        "outputId": "621a69f0-4fad-4b0f-cf04-1666be8e4400"
      },
      "execution_count": 2,
      "outputs": [
        {
          "output_type": "stream",
          "name": "stdout",
          "text": [
            "Digite um número: 9\n",
            "Digite um número: 10.5\n",
            "Digite um número: 11.5\n",
            "Digite um número: sair\n",
            "Soma = 31.0 Média = 10.333\n"
          ]
        }
      ]
    },
    {
      "cell_type": "markdown",
      "source": [
        "3) Usando laço, pergunte um usuário a nota de 3 provas. Remova a menor nota e calcule a média das notas que ele atingiu."
      ],
      "metadata": {
        "id": "Noc1qZGKysfI"
      }
    },
    {
      "cell_type": "code",
      "source": [
        "soma  = 0\n",
        "menor = float('inf') #100000\n",
        "contador = 1\n",
        "while contador <= 3:\n",
        "  nota = float(input(f'Digite a nota da prova {contador}: '))\n",
        "  soma += nota\n",
        "  if nota < menor:\n",
        "    menor = nota\n",
        "  contador += 1\n",
        "soma -= menor\n",
        "media = soma / 2.0\n",
        "print(f'Média = {media}')"
      ],
      "metadata": {
        "colab": {
          "base_uri": "https://localhost:8080/"
        },
        "id": "FGD0xUxmyuSM",
        "outputId": "348988f3-4ff7-41af-b632-9a609a0d35c3"
      },
      "execution_count": 3,
      "outputs": [
        {
          "output_type": "stream",
          "name": "stdout",
          "text": [
            "Digite a nota da prova 1: 9\n",
            "Digite a nota da prova 2: 5\n",
            "Digite a nota da prova 3: 8\n",
            "Média = 8.5\n"
          ]
        }
      ]
    },
    {
      "cell_type": "markdown",
      "source": [
        "4) Pergunte o usuário 2 números inteiros, calcule quantos números pares existem entre os 2 número informados. Exemplo: se ele digitar 1 e 9, tem 4 números pares entre esses números 2,4,6,8 ."
      ],
      "metadata": {
        "id": "21tl_R0ay39m"
      }
    },
    {
      "cell_type": "code",
      "source": [
        "#considera os extremos (inclusivos)\n",
        "n1 = int(input('Digite o 1o número: '))\n",
        "n2 = int(input('Digite o 2o número: '))\n",
        "n_pares = 0\n",
        "n1_aux = n1\n",
        "while n1_aux <= n2:\n",
        "  if n1_aux % 2 == 0:\n",
        "    n_pares += 1\n",
        "    #print(f'{n1}',end=' ')\n",
        "  n1_aux += 1\n",
        "print(f'São {n_pares} números pares entre {n1} e {n2}')"
      ],
      "metadata": {
        "colab": {
          "base_uri": "https://localhost:8080/"
        },
        "id": "TOOcyzIny6rF",
        "outputId": "48d03e32-e85d-4c60-a10d-13a9f827fd59"
      },
      "execution_count": 5,
      "outputs": [
        {
          "output_type": "stream",
          "name": "stdout",
          "text": [
            "Digite o 1o número: 2\n",
            "Digite o 2o número: 8\n",
            "São 4 números pares entre 2 e 8\n"
          ]
        }
      ]
    },
    {
      "cell_type": "markdown",
      "source": [
        "5) Pergunte o usuário 2 números inteiros, calcule a soma de todos os números ímpares inteiros entre esses números. Exemplo: se ele digitar 1 e 9, tem 5 números ímpares entre esses números 1,3,5,7,9, e a soma é 25 ."
      ],
      "metadata": {
        "id": "jNaHJDXkzK7H"
      }
    },
    {
      "cell_type": "code",
      "source": [
        "n1 = int(input('Digite o 1o número: '))\n",
        "n2 = int(input('Digite o 2o número: '))\n",
        "soma = 0\n",
        "n1_aux = n1\n",
        "while n1_aux <= n2:\n",
        "  if n1_aux % 2 != 0:\n",
        "    soma += n1_aux\n",
        "    #print(f'{n1}',end=' ')\n",
        "  n1_aux += 1\n",
        "print(f'Soma dos números ímpares entre {n1} e {n2} = {soma}')"
      ],
      "metadata": {
        "colab": {
          "base_uri": "https://localhost:8080/"
        },
        "id": "TLAwtfpYzMFW",
        "outputId": "54fbb29d-762b-4967-e87d-c45213920eef"
      },
      "execution_count": 6,
      "outputs": [
        {
          "output_type": "stream",
          "name": "stdout",
          "text": [
            "Digite o 1o número: 1\n",
            "Digite o 2o número: 8\n",
            "Soma dos números ímpares entre 1 e 8 = 16\n"
          ]
        }
      ]
    }
  ]
}
