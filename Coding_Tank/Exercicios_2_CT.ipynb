{
  "nbformat": 4,
  "nbformat_minor": 0,
  "metadata": {
    "colab": {
      "provenance": [],
      "authorship_tag": "ABX9TyND7Jh20TqXY7jZdtjGYm28"
    },
    "kernelspec": {
      "name": "python3",
      "display_name": "Python 3"
    },
    "language_info": {
      "name": "python"
    }
  },
  "cells": [
    {
      "cell_type": "markdown",
      "source": [
        "# Coding Tank - Tarefa da aula 2"
      ],
      "metadata": {
        "id": "YfFOf2pEs5rE"
      }
    },
    {
      "cell_type": "markdown",
      "source": [
        "1. Peça ao usuário para informar 4 lados consecutivos de um polígono. Veja se é um quadrado ou retâgulo, ou nenhum. Caso seja quadrado ou retângulo, imprima a área calculada."
      ],
      "metadata": {
        "id": "9pm33HOetA_5"
      }
    },
    {
      "cell_type": "code",
      "execution_count": 1,
      "metadata": {
        "colab": {
          "base_uri": "https://localhost:8080/"
        },
        "id": "C52frkzWs1mC",
        "outputId": "1b76a6ec-4338-48d4-a4bc-e38b078396d8"
      },
      "outputs": [
        {
          "output_type": "stream",
          "name": "stdout",
          "text": [
            "Digite os 4 lados consecutivos de um polígono (separados por vírgula e ponto para decimal): 3,4,4,3\n",
            "Nenhum\n"
          ]
        }
      ],
      "source": [
        "lados = input('Digite os 4 lados consecutivos de um polígono (separados por vírgula e ponto para decimal): ')\n",
        "lados = lados.split(',')\n",
        "lados = [float(x) for x in lados]\n",
        "if lados[0] == lados[2] and lados[1] == lados[3]:\n",
        "  if lados[0] == lados[1]:\n",
        "    print('Quadrado')\n",
        "  else:\n",
        "    print('Retângulo')\n",
        "else:\n",
        "  print('Nenhum')\n"
      ]
    },
    {
      "cell_type": "markdown",
      "source": [
        "2. Pergunte ao usuário o valor de um produto, e se ele quer aumentar ou diminuir o preço.\n",
        "Pergunte ao usuário o quanto que ele gostaria de diminuir ou acrescentar, em porcentagem, e calcule o novo preço do produto para o usuário.\n"
      ],
      "metadata": {
        "id": "SB9XBs_ptCOS"
      }
    },
    {
      "cell_type": "code",
      "source": [
        "valor = 'a'\n",
        "while not valor.isnumeric():\n",
        "    valor       = input('Digite o valor do produto (ponto para decimal): ')\n",
        "valor       = float(valor)\n",
        "opcao = 3\n",
        "while opcao != 1 and opcao != 2:\n",
        "    opcao  = int(input('''Gostaria de:\n",
        "                          1. aumentar o preço\n",
        "                          2. diminuir o preço: '''))\n",
        "porcentagem = 'a'\n",
        "if opcao == 1:\n",
        "  while not porcentagem.isnumeric():\n",
        "      porcentagem = input('Qual a porcentagem desse aumento? (ponto para decimal) ')\n",
        "  porcentagem = float(porcentagem)\n",
        "else:\n",
        "  while not porcentagem.isnumeric():\n",
        "      porcentagem = input('Qual a porcentagem dessa diminuição? (ponto para decimal) ')\n",
        "  porcentagem = float(porcentagem)\n",
        "  porcentagem = -porcentagem\n",
        "\n",
        "porcentagem = porcentagem / 100.0\n",
        "\n",
        "novo_valor = valor + valor * porcentagem\n",
        "\n",
        "if novo_valor < 0:\n",
        "  print('Diminuição maior que preço do produto')\n",
        "  novo_valor = 0\n",
        "\n",
        "print(f'Novo valor será {novo_valor}')"
      ],
      "metadata": {
        "colab": {
          "base_uri": "https://localhost:8080/"
        },
        "id": "dMzuNFh0tUIA",
        "outputId": "d29a25d5-7b1e-4756-e581-cb932e42dd71"
      },
      "execution_count": 2,
      "outputs": [
        {
          "output_type": "stream",
          "name": "stdout",
          "text": [
            "Digite o valor do produto (ponto para decimal): 100\n",
            "Gostaria de:\n",
            "                          1. aumentar o preço\n",
            "                          2. diminuir o preço: 3\n",
            "Gostaria de:\n",
            "                          1. aumentar o preço\n",
            "                          2. diminuir o preço: 2\n",
            "Qual a porcentagem dessa diminuição? (ponto para decimal) c\n",
            "Qual a porcentagem dessa diminuição? (ponto para decimal) 80\n",
            "Novo valor será 20.0\n"
          ]
        }
      ]
    },
    {
      "cell_type": "markdown",
      "source": [
        "3. Faça um programa que pergunte 4 notas de provas de um aluno, caso a média seja maior ou igual a 6 ele está aprovado, caso seja maior que 5, ele está de recuperação, pergunte a nota da prova de recuperação, caso a média da nota de recuperação com a média das provas seja maior que 6, ele está aprovado, se não reprovado. Caso a média das 4 provas seja menor ou igual a 5 ele está reprovado direto."
      ],
      "metadata": {
        "id": "e9lXCZRett_m"
      }
    },
    {
      "cell_type": "code",
      "source": [
        "notas = input('Insira as notas das 4 provas, com ponto para decimal e separadas por vírgula: ')\n",
        "notas = notas.split(',')\n",
        "notas = [float(x) for x in notas]\n",
        "media = float(sum(notas))/4.0\n",
        "print(f'Média = {media}')\n",
        "if media >= 6.0:\n",
        "  print('Aluno aprovado')\n",
        "elif media <= 5:\n",
        "  print('Aluno reprovado')\n",
        "else:\n",
        "  print('Aluno de recuperação')\n",
        "  recuperacao = float(input('Digite a nota de recuperação (ponto para decimal): '))\n",
        "  nova_media  = (media + recuperacao) / 2.0\n",
        "  print(f'Nova média = {nova_media}')\n",
        "  if nova_media > 6:\n",
        "    print('Aluno aprovado')\n",
        "  else:\n",
        "    print('Aluno reprovado')"
      ],
      "metadata": {
        "colab": {
          "base_uri": "https://localhost:8080/"
        },
        "id": "RISKXiDttsJ1",
        "outputId": "4e6d8636-717a-47ba-85b1-2df17dd52681"
      },
      "execution_count": 3,
      "outputs": [
        {
          "output_type": "stream",
          "name": "stdout",
          "text": [
            "Insira as notas das 4 provas, com ponto para decimal e separadas por vírgula: 5.5,5.5,5.5,5.5\n",
            "Média = 5.5\n",
            "Aluno de recuperação\n",
            "Digite a nota de recuperação (ponto para decimal): 10\n",
            "Nova média = 7.75\n",
            "Aluno aprovado\n"
          ]
        }
      ]
    },
    {
      "cell_type": "markdown",
      "source": [
        "4. Pergunte ao usuário que horas são, informando somente um número inteiro, e retorne \"Bom dia!\", caso seja entre 5 horas e 11 horas da manhã, \"Boa tarde!\", caso seja entre 12 horas e 18 horas da tarde, e \"Boa noite!\", caso seja entre 19 horas e 4 horas da manhã."
      ],
      "metadata": {
        "id": "re-XbbH2t6O0"
      }
    },
    {
      "cell_type": "code",
      "source": [
        "hora = int(input('Digite que horas são (apenas a hora): '))\n",
        "if 5 <= hora <= 11:\n",
        "  print('Bom dia!')\n",
        "elif 12 <= hora <= 18:\n",
        "  print('Boa tarde!')\n",
        "else:\n",
        "  print('Boa noite!')"
      ],
      "metadata": {
        "colab": {
          "base_uri": "https://localhost:8080/"
        },
        "id": "1PfNlF48t9N5",
        "outputId": "c7373a2b-44c2-4d24-f101-34880c36ea6b"
      },
      "execution_count": 4,
      "outputs": [
        {
          "output_type": "stream",
          "name": "stdout",
          "text": [
            "Digite que horas são (apenas a hora): 0\n",
            "Boa noite!\n"
          ]
        }
      ]
    },
    {
      "cell_type": "markdown",
      "source": [
        "5. Peça o usuário para digitar um número, informe se o número é divisivel por 5, caso seja, informe se o número é par ou impar."
      ],
      "metadata": {
        "id": "o4qUqRLkuE1K"
      }
    },
    {
      "cell_type": "code",
      "source": [
        "valor = int(input('Digite um número: '))\n",
        "if valor % 5 == 0:\n",
        "  if valor % 2 == 0:\n",
        "    print('Número é divisível por 5 e par')\n",
        "  else:\n",
        "    print('Número é divisível por 5 e ímpar')\n",
        "else:\n",
        "  print('Número não é divisível por 5')"
      ],
      "metadata": {
        "colab": {
          "base_uri": "https://localhost:8080/"
        },
        "id": "s7DynilRuG3u",
        "outputId": "ddfc8811-fcf5-4067-b3a8-6704b16542f9"
      },
      "execution_count": 5,
      "outputs": [
        {
          "output_type": "stream",
          "name": "stdout",
          "text": [
            "Digite um número: 15\n",
            "Número é divisível por 5 e ímpar\n"
          ]
        }
      ]
    },
    {
      "cell_type": "markdown",
      "source": [
        "6. Faça um programa para o cálculo de uma folha de pagamento sabendo que os descontos são do imposto de Renda, que depende do salário bruto (conforme tabela abaixo), 3% para o Sindicato e que o FGTS corresponde a 11% do salário bruto, mas não é descontado (é a empresa que deposita). Solicite ao usuário a quantidade de horas trabalhadas no mês, e o valor recebido por hora de trabalho.\n",
        "\n",
        "*Desconto do IR*\n",
        "\n",
        "| Faixa de salário                          | Desconto |\n",
        "|-------------------------------------------|----------|\n",
        "| SBruto ate 900,00 (incluso)    | Isento   |\n",
        "| SBruto de 1500, 00 (inclusive)  | 5%       |\n",
        "| SBruto até 2500,00 (inclusive)  | 10%      |\n",
        "| SBruto acima de 2500               | 20%      |\n",
        "\n",
        "&nbsp;\n",
        "\n",
        "Imprima na tela as informações, dispostas conforme o exemplo abaixo, no exemplo valor da hora é 5 e a quantidade de horas é 220.\n",
        "\n",
        "\n",
        "| Descrição               | Valor      |\n",
        "|-------------------------|------------|\n",
        "| Salário bruto (5 * 220) | 1100,00 |\n",
        "| (–) IR (5%)             | 55,00   |\n",
        "| (–) INSS (10%)          | 110,00  |\n",
        "| FGTS (11%)              | 121,00  |\n",
        "| Total de descontos      | 165,00  |\n",
        "| Salário Líquido         | 935,00  |   \n",
        "\n",
        "Obs: Não é necessário imprimir as linhas e nem o cabeçalho da tabela, somente a descrição e os valores. Para uma melhor visualização, tabule a saída de forma que os salários fiquem um abaixo do outro."
      ],
      "metadata": {
        "id": "MNCxLtmguNAK"
      }
    },
    {
      "cell_type": "code",
      "source": [
        "valor_hora = float(input('Digite o valor da hora (ponto para decimal): '))\n",
        "qtde_horas = int(input('Digite a quantidade de horas: '))\n",
        "\n",
        "salario_bruto = valor_hora * qtde_horas\n",
        "\n",
        "if salario_bruto <= 900:\n",
        "  ir = 0\n",
        "elif salario_bruto <= 1500:\n",
        "  ir = 0.05\n",
        "elif salario_bruto <= 2500:\n",
        "  ir = 0.10\n",
        "else:\n",
        "  ir = 0.20\n",
        "\n",
        "desconto_ir     = salario_bruto * ir\n",
        "desconto_inss   = salario_bruto * 0.10\n",
        "desconto_sind   = salario_bruto * 0.03\n",
        "total_descontos = desconto_ir + desconto_inss + desconto_sind\n",
        "fgts            = salario_bruto * 0.11\n",
        "salario_liquido = salario_bruto - total_descontos\n",
        "\n",
        "print('Descrição                                 ','Valor',sep='\\t')\n",
        "print('-------------------------------------------------------------------')\n",
        "print(f'Salário bruto ({valor_hora}*{qtde_horas})                     ',salario_bruto,sep='\\t')\n",
        "print(f'(-)IR ({ir*100.0}%)                                ',desconto_ir,sep='\\t')\n",
        "print('(-)INSS (10%)                             ',desconto_inss,sep='\\t')\n",
        "print('(-)SIND (3%)                              ',round(desconto_sind,2),sep='\\t')\n",
        "print('FGTS (11%)                                ',fgts,sep='\\t')\n",
        "print('Total de descontos                        ',total_descontos,sep='\\t')\n",
        "print('Salário líquido                           ',salario_liquido,sep='\\t')"
      ],
      "metadata": {
        "colab": {
          "base_uri": "https://localhost:8080/"
        },
        "id": "K7DX7hSnvBWx",
        "outputId": "4df79a0d-df4f-4cd9-a014-c9a198c09bef"
      },
      "execution_count": 6,
      "outputs": [
        {
          "output_type": "stream",
          "name": "stdout",
          "text": [
            "Digite o valor da hora (ponto para decimal): 65\n",
            "Digite a quantidade de horas: 168\n",
            "Descrição                                 \tValor\n",
            "-------------------------------------------------------------------\n",
            "Salário bruto (65.0*168)                     \t10920.0\n",
            "(-)IR (20.0%)                                \t2184.0\n",
            "(-)INSS (10%)                             \t1092.0\n",
            "(-)SIND (3%)                              \t327.6\n",
            "FGTS (11%)                                \t1201.2\n",
            "Total de descontos                        \t3603.6\n",
            "Salário líquido                           \t7316.4\n"
          ]
        }
      ]
    }
  ]
}
