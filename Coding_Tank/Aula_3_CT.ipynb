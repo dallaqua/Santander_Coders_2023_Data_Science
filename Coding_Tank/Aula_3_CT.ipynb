{
  "nbformat": 4,
  "nbformat_minor": 0,
  "metadata": {
    "colab": {
      "provenance": [],
      "authorship_tag": "ABX9TyPBlNpgufrJgM6hrNJ2oUcr"
    },
    "kernelspec": {
      "name": "python3",
      "display_name": "Python 3"
    },
    "language_info": {
      "name": "python"
    }
  },
  "cells": [
    {
      "cell_type": "markdown",
      "source": [
        "# Coding Tank - Aula 3"
      ],
      "metadata": {
        "id": "BGLXzsXWvjN8"
      }
    },
    {
      "cell_type": "markdown",
      "source": [
        "1) Escreva um programa que solicite um número inteiro e imprima na tela todos os números de 1 até o número digitado, separado por espaços.\n",
        "Exemplo\n",
        "número digitado: 5\n",
        "resultado esperado: 1 2 3 4 5"
      ],
      "metadata": {
        "id": "RMwjvOjDvoiV"
      }
    },
    {
      "cell_type": "code",
      "execution_count": 1,
      "metadata": {
        "colab": {
          "base_uri": "https://localhost:8080/"
        },
        "id": "a95oIx0zvf-O",
        "outputId": "99d05d35-1f2f-402a-dac3-bf5d06d15a7a"
      },
      "outputs": [
        {
          "output_type": "stream",
          "name": "stdout",
          "text": [
            "Digite um número inteiro: 11\n",
            "1 2 3 4 5 6 7 8 9 10 11 "
          ]
        }
      ],
      "source": [
        "numero = int(input('Digite um número inteiro: '))\n",
        "current = 1\n",
        "while current <= numero:\n",
        "  print(current,end=' ')\n",
        "  current += 1"
      ]
    },
    {
      "cell_type": "markdown",
      "source": [
        "2) Faça um programa que mostre o fatorial de um número digitado.\n",
        "Exemplo\n",
        "número digitado: 5\n",
        "resultado esperado: 120"
      ],
      "metadata": {
        "id": "H534mlJVvuKo"
      }
    },
    {
      "cell_type": "code",
      "source": [
        "numero = int(input('Digite um número inteiro: '))\n",
        "fatorial = 1\n",
        "curr = 2\n",
        "while curr <= numero:\n",
        "  fatorial *= curr\n",
        "  curr += 1\n",
        "print(fatorial)"
      ],
      "metadata": {
        "colab": {
          "base_uri": "https://localhost:8080/"
        },
        "id": "LjnJDzQBv0uf",
        "outputId": "560f21b1-0299-400f-dd2e-88c927a8cffe"
      },
      "execution_count": 2,
      "outputs": [
        {
          "output_type": "stream",
          "name": "stdout",
          "text": [
            "Digite um número inteiro: 5\n",
            "120\n"
          ]
        }
      ]
    },
    {
      "cell_type": "markdown",
      "source": [
        "3) Faça um programa que imprima a tabuada do 9 na tela (entre 1 e 10). Insira a conta, por exemplo, 9 * 1 = 9, sendo cada um dos valores em uma linha diferente."
      ],
      "metadata": {
        "id": "Kofop5Ttv6oq"
      }
    },
    {
      "cell_type": "code",
      "source": [
        "curr = 1\n",
        "while curr <= 10:\n",
        "  print(f'9 * {curr} = {9*curr}')\n",
        "  curr += 1"
      ],
      "metadata": {
        "id": "zoMUiKR2wF3w"
      },
      "execution_count": null,
      "outputs": []
    },
    {
      "cell_type": "markdown",
      "source": [
        "4) Faça um programa em que o usuário digite números quaisquer que encerrará no momento em que o valor 0 seja digitado. Ao final diga qual foi o maior número digitado."
      ],
      "metadata": {
        "id": "rpvfVdBCwG3D"
      }
    },
    {
      "cell_type": "code",
      "source": [
        "valor = float(input('Digite um número: '))\n",
        "maior = valor\n",
        "while valor != 0:\n",
        "  valor = float(input('Digite um número: '))\n",
        "  if valor > maior:\n",
        "    maior = valor\n",
        "print(f'Maior número = {maior}')"
      ],
      "metadata": {
        "colab": {
          "base_uri": "https://localhost:8080/"
        },
        "id": "ltvAzn7hv9B0",
        "outputId": "8133415a-faf0-497d-a7f1-5d8c078da090"
      },
      "execution_count": 3,
      "outputs": [
        {
          "output_type": "stream",
          "name": "stdout",
          "text": [
            "Digite um número: 1\n",
            "Digite um número: 4\n",
            "Digite um número: 8\n",
            "Digite um número: 3\n",
            "Digite um número: -100\n",
            "Digite um número: 0\n",
            "Maior número = 8.0\n"
          ]
        }
      ]
    },
    {
      "cell_type": "markdown",
      "source": [
        "5) Faça um script que peça para o usuário digitar a idade, o salário e o sexo de uma pessoa até que as entradas digitadas sejam válidas."
      ],
      "metadata": {
        "id": "brYwq3XywRCn"
      }
    },
    {
      "cell_type": "code",
      "source": [
        "condicao = True\n",
        "while condicao:\n",
        "  dados = input('Digite a idade, o salário (ponto para decimal) e o gênero, separando-os com vírgula: ')\n",
        "  dados = dados.split(',')\n",
        "  idade   = dados[0].replace(' ','')\n",
        "  salario = dados[1].replace(' ','')\n",
        "  genero  = dados[2].replace(' ','')\n",
        "  if idade.isnumeric():\n",
        "    idade = int(idade)\n",
        "  else: continue\n",
        "  num_salario = salario.replace('.','',1)\n",
        "  if num_salario.isnumeric():\n",
        "    salario = float(salario)\n",
        "  else: continue\n",
        "  if genero.lower() != 'm' and genero.lower() != 'f' and genero.lower() != 'outro':\n",
        "    continue\n",
        "  if 0 <= idade <= 150 and salario > 0:\n",
        "    condicao = False"
      ],
      "metadata": {
        "colab": {
          "base_uri": "https://localhost:8080/"
        },
        "id": "18NQCXE0wP7o",
        "outputId": "dbc1dd79-9649-419e-e2d4-61bef6cb037e"
      },
      "execution_count": 4,
      "outputs": [
        {
          "name": "stdout",
          "output_type": "stream",
          "text": [
            "Digite a idade, o salário (ponto para decimal) e o gênero, separando-os com vírgula: 10,100.0.0,M\n",
            "Digite a idade, o salário (ponto para decimal) e o gênero, separando-os com vírgula: 10,100.0,M\n"
          ]
        }
      ]
    },
    {
      "cell_type": "markdown",
      "source": [
        "6) Faça uma calculadora. O usuário deve inserir qual a operação matemática ele deseja realizar e logo em seguida os dois números. O programa deve finalizar apenas quando o usuário digitar a opção \"sair\" no momento de escolha da operação matemática."
      ],
      "metadata": {
        "id": "QNGCkXsnwcr9"
      }
    },
    {
      "cell_type": "code",
      "source": [
        "#considerando que usuário poderá digitar entradas inválidas\n",
        "opcao = input('Começar ou sair? ').replace(' ','').lower()\n",
        "while opcao != 'sair':\n",
        "  operacao = 'a'\n",
        "  while operacao != '+' and operacao != '-' and operacao != '*' and operacao != '/':\n",
        "    operacao = input('Qual será a operação? (+, -, * ou /): ').replace(' ','')\n",
        "  n1_teste = 'a'\n",
        "  n2_teste = 'a'\n",
        "  while not n1_teste.isnumeric():\n",
        "    n1 = input('Digite o 1o número: ').replace(' ','').replace(',','.')\n",
        "    n1_teste = n1.replace('.','',1)\n",
        "  n1 = float(n1)\n",
        "  while not n2_teste.isnumeric():\n",
        "    n2 = input('Digite o 2o número: ').replace(' ','').replace(',','.')\n",
        "    n2_teste = n2.replace('.','',1)\n",
        "  n2 = float(n2)\n",
        "  if operacao == '+': print(f'{n1} + {n2} = {n1+n2}')\n",
        "  if operacao == '-': print(f'{n1} - {n2} = {n1-n2}')\n",
        "  if operacao == '*': print(f'{n1} * {n2} = {n1*n2}')\n",
        "  if operacao == '/': print(f'{n1} / {n2} = {n1/n2}')\n",
        "\n",
        "  opcao = input('Continuar ou sair? ').replace(' ','').lower()\n"
      ],
      "metadata": {
        "colab": {
          "base_uri": "https://localhost:8080/"
        },
        "id": "tblLI8l4wfS3",
        "outputId": "242f37a5-8701-4109-a5fb-162978a77703"
      },
      "execution_count": 5,
      "outputs": [
        {
          "name": "stdout",
          "output_type": "stream",
          "text": [
            "Começar ou sair? começar\n",
            "Qual será a operação? (+, -, * ou /): +\n",
            "Digite o 1o número: 100.0.0\n",
            "Digite o 1o número: 100.5,6\n",
            "Digite o 1o número: 11.5\n",
            "Digite o 2o número: 0.3\n",
            "11.5 + 0.3 = 11.8\n",
            "Continuar ou sair? continuar\n",
            "Qual será a operação? (+, -, * ou /): *\n",
            "Digite o 1o número: 80\n",
            "Digite o 2o número: 2\n",
            "80.0 * 2.0 = 160.0\n",
            "Continuar ou sair? sair\n"
          ]
        }
      ]
    },
    {
      "cell_type": "code",
      "source": [
        "#considerando que usuário poderá digitar entradas inválidas\n",
        "operacao = 'comecar'\n",
        "continuar = True\n",
        "while continuar:\n",
        "  #print(continuar)\n",
        "  while operacao != '+' and operacao != '-' and operacao != '*' and operacao != '/':\n",
        "    operacao = input('Qual será a operação? (+, -, * ou /): ').replace(' ','')\n",
        "    #print(operacao)\n",
        "    if operacao.lower() == 'sair':\n",
        "      continuar = False\n",
        "      break\n",
        "\n",
        "  if continuar == False:\n",
        "    break\n",
        "\n",
        "  n1_teste = 'a'\n",
        "  n2_teste = 'a'\n",
        "  while not n1_teste.isnumeric():\n",
        "    n1 = input('Digite o 1o número: ').replace(' ','').replace(',','.')\n",
        "    n1_teste = n1.replace('.','',1)\n",
        "  n1 = float(n1)\n",
        "  while not n2_teste.isnumeric():\n",
        "    n2 = input('Digite o 2o número: ').replace(' ','').replace(',','.')\n",
        "    n2_teste = n2.replace('.','',1)\n",
        "  n2 = float(n2)\n",
        "  if operacao == '+': print(f'{n1} + {n2} = {n1+n2}')\n",
        "  if operacao == '-': print(f'{n1} - {n2} = {n1-n2}')\n",
        "  if operacao == '*': print(f'{n1} * {n2} = {n1*n2}')\n",
        "  if operacao == '/': print(f'{n1} / {n2} = {n1/n2}')\n",
        "\n",
        "  operacao = 'continuar'"
      ],
      "metadata": {
        "colab": {
          "base_uri": "https://localhost:8080/"
        },
        "id": "uiLRmrD1w3-O",
        "outputId": "ef310fe1-1991-4308-af35-324cd9b82034"
      },
      "execution_count": 6,
      "outputs": [
        {
          "name": "stdout",
          "output_type": "stream",
          "text": [
            "Qual será a operação? (+, -, * ou /): *\n",
            "Digite o 1o número: 8.3\n",
            "Digite o 2o número:        2\n",
            "8.3 * 2.0 = 16.6\n",
            "Qual será a operação? (+, -, * ou /): sair\n"
          ]
        }
      ]
    },
    {
      "cell_type": "code",
      "source": [
        "#Considerando que usuário sempre digitará dados válidos\n",
        "operacao = input('Qual será a operação? (+, -, * ou /): ')\n",
        "while operacao.lower() != 'sair':\n",
        "  n1 = float(input('Digite o 1o número: '))\n",
        "  n2 = float(input('Digite o 2o número: '))\n",
        "  if operacao == '+': print(f'{n1} + {n2} = {n1+n2}')\n",
        "  if operacao == '-': print(f'{n1} - {n2} = {n1-n2}')\n",
        "  if operacao == '*': print(f'{n1} * {n2} = {n1*n2}')\n",
        "  if operacao == '/': print(f'{n1} / {n2} = {n1/n2}')\n",
        "  operacao = input('Qual será a operação? (+, -, * ou /): ')"
      ],
      "metadata": {
        "colab": {
          "base_uri": "https://localhost:8080/"
        },
        "id": "CIB-xKRKxKQ1",
        "outputId": "569e9858-29fd-42ef-f7bb-08e24f5626ca"
      },
      "execution_count": 7,
      "outputs": [
        {
          "name": "stdout",
          "output_type": "stream",
          "text": [
            "Qual será a operação? (+, -, * ou /): /\n",
            "Digite o 1o número: 9\n",
            "Digite o 2o número: 3\n",
            "9.0 / 3.0 = 3.0\n",
            "Qual será a operação? (+, -, * ou /): *\n",
            "Digite o 1o número: 8\n",
            "Digite o 2o número: 7.5\n",
            "8.0 * 7.5 = 60.0\n",
            "Qual será a operação? (+, -, * ou /): -\n",
            "Digite o 1o número: 10\n",
            "Digite o 2o número: 90\n",
            "10.0 - 90.0 = -80.0\n",
            "Qual será a operação? (+, -, * ou /): +\n",
            "Digite o 1o número: 70.2\n",
            "Digite o 2o número: 80.3\n",
            "70.2 + 80.3 = 150.5\n",
            "Qual será a operação? (+, -, * ou /): sair\n"
          ]
        }
      ]
    }
  ]
}
