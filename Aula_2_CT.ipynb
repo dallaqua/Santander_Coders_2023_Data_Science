{
  "nbformat": 4,
  "nbformat_minor": 0,
  "metadata": {
    "colab": {
      "provenance": [],
      "authorship_tag": "ABX9TyPG8El3roEiI3K4qI5gaorI"
    },
    "kernelspec": {
      "name": "python3",
      "display_name": "Python 3"
    },
    "language_info": {
      "name": "python"
    }
  },
  "cells": [
    {
      "cell_type": "markdown",
      "source": [
        "# Coding Tank - Aula 2"
      ],
      "metadata": {
        "id": "M_7FS7u7p0oO"
      }
    },
    {
      "cell_type": "markdown",
      "source": [
        "1) Imagine que você está implementando um sistema para verificar se os alunos de uma turma estudantil passaram na disciplina ou não. Para isso solicite que o usuário insira as notas das 4 provas realizadas por um estudante e calcule a média. Após isso, emita uma resposta booleana (True ou False) se o estudante passou na disciplina pensando que a média mínima para aprovação é que seja pelo menos 5."
      ],
      "metadata": {
        "id": "bTv86K52p6HX"
      }
    },
    {
      "cell_type": "code",
      "execution_count": 1,
      "metadata": {
        "colab": {
          "base_uri": "https://localhost:8080/"
        },
        "id": "K9dBDVcJpwY9",
        "outputId": "7cdf9dff-afd9-4327-ef03-6c26db00b9f0"
      },
      "outputs": [
        {
          "output_type": "stream",
          "name": "stdout",
          "text": [
            "Insira as notas das 4 provas, com ponto para decimal e separadas por vírgula: 3.5, 6.7, 2.9, 1.5\n",
            "Média = 3.65\n",
            "Estudante reprovado\n"
          ]
        }
      ],
      "source": [
        "notas = input('Insira as notas das 4 provas, com ponto para decimal e separadas por vírgula: ')\n",
        "notas = notas.split(',')\n",
        "notas = [float(x) for x in notas]\n",
        "media = float(sum(notas))/4.0\n",
        "print('Média = {}'.format(media))\n",
        "if media >= 5.0:\n",
        "  print('Estudante aprovado')\n",
        "else:\n",
        "  print('Estudante reprovado')"
      ]
    },
    {
      "cell_type": "markdown",
      "source": [
        "2) Faça um programa que peça a idade do usuário e imprima se ele é maior ou menor de 18 anos."
      ],
      "metadata": {
        "id": "LphQoM7eqOtm"
      }
    },
    {
      "cell_type": "code",
      "source": [
        "idade = int(input('Insira a sua idade: '))\n",
        "if idade > 18:\n",
        "  print('Maior de 18 anos')\n",
        "elif idade <18:\n",
        "  print('Menor de 18 anos')\n",
        "else:\n",
        "  print('18 anos')"
      ],
      "metadata": {
        "colab": {
          "base_uri": "https://localhost:8080/"
        },
        "id": "An_8Q2eUqJL3",
        "outputId": "6d432eff-9674-4bc0-b831-ba1b458b045a"
      },
      "execution_count": 2,
      "outputs": [
        {
          "output_type": "stream",
          "name": "stdout",
          "text": [
            "Insira a sua idade: 31\n",
            "Maior de 18 anos\n"
          ]
        }
      ]
    },
    {
      "cell_type": "markdown",
      "source": [
        "3) Faça um programa que peça um número e mostre se ele é positivo ou negativo. Alternativa: acrescentar nulo"
      ],
      "metadata": {
        "id": "G8_ZvV1FqYIz"
      }
    },
    {
      "cell_type": "code",
      "source": [
        "valor = float(input('Digite um número: '))\n",
        "if valor > 0:\n",
        "  print('Número positivo')\n",
        "elif valor < 0:\n",
        "  print('Número negativo')\n",
        "else:\n",
        "  print('Valor nulo')"
      ],
      "metadata": {
        "colab": {
          "base_uri": "https://localhost:8080/"
        },
        "id": "qXYRgynjqK9-",
        "outputId": "b7bd5ae1-4f8c-4ac6-8d01-1f45ca08d921"
      },
      "execution_count": 5,
      "outputs": [
        {
          "output_type": "stream",
          "name": "stdout",
          "text": [
            "Digite um número: -5\n",
            "Número negativo\n"
          ]
        }
      ]
    },
    {
      "cell_type": "markdown",
      "source": [
        "4) Faça um programa que peça dois números e mostre o maior deles."
      ],
      "metadata": {
        "id": "QxSGLN-oqfrN"
      }
    },
    {
      "cell_type": "code",
      "source": [
        "x = float(input('Digite um numéro: '))\n",
        "y = float(input('Digite outro número: '))\n",
        "if x > y:\n",
        "  print(f'Maior número: {x}')\n",
        "elif x < y:\n",
        "  print(f'Maior número: {y}')\n",
        "else:\n",
        "  print('Números iguais')"
      ],
      "metadata": {
        "colab": {
          "base_uri": "https://localhost:8080/"
        },
        "id": "7m6evQ0VqhuE",
        "outputId": "0bfeff99-1660-4574-fed0-20b3025cceed"
      },
      "execution_count": 6,
      "outputs": [
        {
          "output_type": "stream",
          "name": "stdout",
          "text": [
            "Digite um numéro: 37\n",
            "Digite outro número: 90\n",
            "Maior número: 90.0\n"
          ]
        }
      ]
    },
    {
      "cell_type": "markdown",
      "source": [
        "5) Faça um programa que leia a validade das informações:\n",
        "\n",
        "a. Idade: entre 0 e 150;\n",
        "\n",
        "b. Salário: maior que 0;\n",
        "\n",
        "c. Sexo: M, F ou Outro;\n",
        "\n",
        "O programa deve imprimir uma mensagem de erro para cada informação inválida."
      ],
      "metadata": {
        "id": "mNd112FIqvDa"
      }
    },
    {
      "cell_type": "code",
      "source": [
        "\n",
        "idade   = int(input('Digite a idade: '))\n",
        "salario = float(input('Digite o salário: '))\n",
        "genero  = input('Entre com o gênero: ').lower()\n",
        "if not 0 <= idade <= 150:\n",
        "  print('Idade inválida')\n",
        "if salario <= 0:\n",
        "  print('Salário inválido')\n",
        "if genero != 'm' and genero != 'f' and genero != 'outro':\n",
        "  print('Gênero inválido')"
      ],
      "metadata": {
        "colab": {
          "base_uri": "https://localhost:8080/"
        },
        "id": "7abv8yyLqp6u",
        "outputId": "9e18c373-cd2a-44f9-c08c-55debe18366f"
      },
      "execution_count": 7,
      "outputs": [
        {
          "output_type": "stream",
          "name": "stdout",
          "text": [
            "Digite a idade: -1\n",
            "Digite o salário: -400\n",
            "Entre com o gênero: F\n",
            "Idade inválida\n",
            "Salário inválido\n"
          ]
        }
      ]
    },
    {
      "cell_type": "markdown",
      "source": [
        "6) Faça um programa que mostre uma questão de múltipla escolha com 5 opções (letras a, b, c, d, e). Sabendo a resposta certa, o programa deve receber a opção do usuário e informar a letra que o usuário marcou e se a resposta está certa ou errada."
      ],
      "metadata": {
        "id": "x0XidR5Lq3qR"
      }
    },
    {
      "cell_type": "code",
      "source": [
        "resposta_usuario = input(''' Qual é a capital do Brasil?\n",
        "                             a) São Paulo\n",
        "                             b) Rio de Janeiro\n",
        "                             c) Brasília\n",
        "                             d) Salvador\n",
        "                             e) Manaus\n",
        "                             ''')\n",
        "resposta_usuario = resposta_usuario.split(')')[0].lower()\n",
        "if resposta_usuario == 'c':\n",
        "  print('Resposta correta: c')\n",
        "else:\n",
        "  print(f'Resposta {resposta_usuario} é errada')"
      ],
      "metadata": {
        "colab": {
          "base_uri": "https://localhost:8080/"
        },
        "id": "WX31FRayq6R8",
        "outputId": "55dd2b69-bd85-491c-927a-f5b3434e14ca"
      },
      "execution_count": 8,
      "outputs": [
        {
          "output_type": "stream",
          "name": "stdout",
          "text": [
            " Qual é a capital do Brasil?\n",
            "                             a) São Paulo\n",
            "                             b) Rio de Janeiro\n",
            "                             c) Brasília\n",
            "                             d) Salvador\n",
            "                             e) Manaus\n",
            "                             e\n",
            "Resposta e é errada\n"
          ]
        }
      ]
    },
    {
      "cell_type": "markdown",
      "source": [
        "\n",
        "\n",
        "7) Vamos fazer um programa para verificar quem é o assassino de um crime. Para descobrir o assassino, a polícia faz um pequeno questionário com 5 perguntas onde a resposta só pode ser sim ou não:\n",
        "\n",
        "a. Mora perto da vítima?\n",
        "\n",
        "b. Já trabalhou com a vítima?\n",
        "\n",
        "c. Telefonou para a vítima?\n",
        "\n",
        "d. Esteve no local do crime?\n",
        "\n",
        "e. Devia para a vítima?\n",
        "\n",
        "Cada resposta sim dá um ponto para o suspeito. A polícia considera que os suspeitos com 5 pontos são os assassinos, com 4 a 3 pontos são cúmplices e 2 pontos são apenas suspeitos, necessitando outras investigações. Valores iguais ou abaixo de 1 são liberados.'''\n"
      ],
      "metadata": {
        "id": "Iz1e_iWArBRF"
      }
    },
    {
      "cell_type": "code",
      "source": [
        "perguntas = ['a. Mora perto da vítima? ', 'b. Já trabalhou com a vítima? ', 'c. Telefonou para a vítima? ', 'd. Esteve no local do crime? ', 'e. Devia para a vítima? ']\n",
        "respostas = []\n",
        "for p in perguntas:\n",
        "    resposta = 'a'\n",
        "    while resposta != 'sim' and resposta != 'não':\n",
        "        resposta = input(p)\n",
        "    if resposta == 'sim':\n",
        "      respostas.append(1)\n",
        "    elif resposta == 'não':\n",
        "      respostas.append(0)\n",
        "numero_sim = sum(respostas)\n",
        "if numero_sim == 5:\n",
        "  print('Suspeito é o assassino')\n",
        "elif numero_sim >= 3:\n",
        "  print('Suspeito é o cúmplice')\n",
        "elif numero_sim == 2:\n",
        "  print('Apenas suspeito, necessário mais investigações')\n",
        "else:\n",
        "  print('Suspeito liberado')"
      ],
      "metadata": {
        "colab": {
          "base_uri": "https://localhost:8080/"
        },
        "id": "rMZET8VjrDuv",
        "outputId": "b32db141-0aee-42f9-ac83-449c62ae53d9"
      },
      "execution_count": 9,
      "outputs": [
        {
          "output_type": "stream",
          "name": "stdout",
          "text": [
            "a. Mora perto da vítima? sim\n",
            "b. Já trabalhou com a vítima? sim\n",
            "c. Telefonou para a vítima? não\n",
            "d. Esteve no local do crime? não\n",
            "e. Devia para a vítima? não\n",
            "Apenas suspeito, necessário mais investigações\n"
          ]
        }
      ]
    },
    {
      "cell_type": "markdown",
      "source": [
        "8) Um produto vai sofrer aumento de acordo com a Tabela 1 abaixo. Faça um programa que peça para o usuário digitar o valor do produto de acordo\n",
        "com o preço antigo e escreva uma das mensagens da Tabela 2, de acordo com o preço reajustado:\n",
        "\n",
        "Tabela 1\n",
        "\n",
        "| Preço Antigo         | % de aumento |\n",
        "|----------------------|--------------|\n",
        "| Até 50 reais         | 5%           |\n",
        "| Entre 50 e 100 reais | 10%          |\n",
        "| De 100 a 150 reais   | 13%          |\n",
        "| Acima de 150 reais   | 15%          |\n",
        "\n",
        "Tabela 2\n",
        "\n",
        "| Preço Novo            | Mensagem   |\n",
        "|-----------------------|------------|\n",
        "| Até 80 reais          | Barato     |\n",
        "| Entre 80 e 115 reais  | Razoável   |\n",
        "| Entre 115 e 150 reais | Normal     |\n",
        "| Entre 150 e 170 reais | Caro       |\n",
        "| Acima de 170 reais    | Muito Caro |"
      ],
      "metadata": {
        "id": "NoLIRddcr8km"
      }
    },
    {
      "cell_type": "code",
      "source": [
        "preco_antigo = -1\n",
        "\n",
        "while preco_antigo < 0:\n",
        "  preco_antigo = float(input('Digite o valor do produto: '))\n",
        "\n",
        "if preco_antigo < 50:\n",
        "  aumento = 5/100\n",
        "elif preco_antigo < 100:\n",
        "  aumento = 10/100\n",
        "elif preco_antigo < 150:\n",
        "  aumento = 13/100\n",
        "else:\n",
        "  aumento = 15/100\n",
        "\n",
        "preco_novo = preco_antigo + preco_antigo * aumento\n",
        "\n",
        "print(preco_novo)\n",
        "if preco_novo < 80:\n",
        "  print('Barato')\n",
        "elif preco_novo < 115:\n",
        "  print('Razoável')\n",
        "elif preco_novo < 150:\n",
        "  print('Normal')\n",
        "elif preco_novo < 170:\n",
        "  print('Caro')\n",
        "else:\n",
        "  print('Muito Caro')"
      ],
      "metadata": {
        "colab": {
          "base_uri": "https://localhost:8080/"
        },
        "id": "WlV8Axg0sCgQ",
        "outputId": "6cb74c30-4699-42a6-96be-35d7f7ba8348"
      },
      "execution_count": 10,
      "outputs": [
        {
          "output_type": "stream",
          "name": "stdout",
          "text": [
            "Digite o valor do produto: 120\n",
            "135.6\n",
            "Normal\n"
          ]
        }
      ]
    },
    {
      "cell_type": "markdown",
      "source": [
        "9) Faça um programa que leia 3 números e informe o maior deles."
      ],
      "metadata": {
        "id": "oFl5AcJqsPhP"
      }
    },
    {
      "cell_type": "code",
      "source": [
        "x = float(input('Digite um número: '))\n",
        "y = float(input('Digite outro número: '))\n",
        "z = float(input('Digite mais um número: '))\n",
        "\n",
        "if x > y:\n",
        "  maior = x\n",
        "else:\n",
        "  maior = y\n",
        "if z > maior:\n",
        "  maior = z\n",
        "\n",
        "print(\"Maior valor é:\",maior)"
      ],
      "metadata": {
        "colab": {
          "base_uri": "https://localhost:8080/"
        },
        "id": "dI-gp5TIsS9h",
        "outputId": "d3dd0a2b-dde1-4b7e-fa4d-54496ba8f11d"
      },
      "execution_count": 11,
      "outputs": [
        {
          "output_type": "stream",
          "name": "stdout",
          "text": [
            "Digite um número: 10\n",
            "Digite outro número: 30\n",
            "Digite mais um número: 20\n",
            "Maior valor é: 30.0\n"
          ]
        }
      ]
    }
  ]
}