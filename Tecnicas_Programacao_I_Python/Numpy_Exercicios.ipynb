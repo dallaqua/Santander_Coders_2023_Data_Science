{
  "cells": [
    {
      "cell_type": "markdown",
      "metadata": {
        "id": "5ocbmwa53Csu"
      },
      "source": [
        "## Análise de transações financeiras com NumPy\n",
        "\n",
        "A biblioteca NumPy é uma ferramenta amplamente utilizada na área financeira para a análise de grandes conjuntos de dados, principalmente na detecção de fraudes bancárias. Como analista de dados de uma instituição financeira, você foi designado para analisar transações financeiras a fim de identificar possíveis fraudes. A instituição coleta os dados das transações realizadas e armazena-os em arrays NumPy. Escreva uma função chamada `analisa_transacoes`, que recebe como entrada um array NumPy de valores de transações e retorna um array NumPy do tipo **float64** com as seguintes medidas estatísticas:\n",
        "- Média;\n",
        "- Valor mínimo;\n",
        "- Valor máximo;\n",
        "\n",
        "Com essas medidas estatísticas, a instituição poderá identificar possíveis padrões e anomalias nos dados das transações, que podem ser sinais de atividades fraudulentas.\n",
        "\n",
        "Dica: Utilize as funções disponíveis no NumPy para calcular cada medida estatística.\n",
        "\n",
        "Exemplo:\n",
        "\n",
        "```python\n",
        "\n",
        "transacoes = np.array([100.0, 200.0, 50.0, 300.0, 250.0, 120.0, 80.0, 500.0])\n",
        "\n",
        "analisa_transacoes(transacoes)\n",
        "\n",
        ">>> array([200.0, 50.0,  500.0])\n",
        "```"
      ]
    },
    {
      "cell_type": "code",
      "execution_count": null,
      "metadata": {
        "colab": {
          "base_uri": "https://localhost:8080/"
        },
        "id": "VUxYvYxx3Csw",
        "outputId": "b416eeb8-8adf-48e8-94ac-b10f71a246ff"
      },
      "outputs": [
        {
          "output_type": "execute_result",
          "data": {
            "text/plain": [
              "array([200.,  50., 500.])"
            ]
          },
          "metadata": {},
          "execution_count": 1
        }
      ],
      "source": [
        "import numpy as np\n",
        "\n",
        "def analisa_transacoes(matriz: np.ndarray) -> np.ndarray:\n",
        "    media    = np.mean(matriz)\n",
        "    minimo   = np.min(matriz)\n",
        "    maximo   = np.max(matriz)\n",
        "    return np.array([media,minimo,maximo],dtype=np.float64)\n",
        "\n",
        "transacoes = np.array([100.0, 200.0, 50.0, 300.0, 250.0, 120.0, 80.0, 500.0])\n",
        "\n",
        "analisa_transacoes(transacoes)"
      ]
    },
    {
      "cell_type": "markdown",
      "metadata": {
        "id": "62wpEsnH3Csy"
      },
      "source": [
        "## Cálculo da soma dos elementos de cada coluna em uma matriz usando NumPy\n",
        "\n",
        "O processamento digital de imagens é uma área que utiliza técnicas computacionais para processar e analisar imagens digitais. Uma das bibliotecas utilizadas nessa área é o NumPy, uma biblioteca Python que permite trabalhar com matrizes multidimensionais e oferece diversas funções e operações matemáticas.\n",
        "\n",
        "Suponha que você seja um desenvolvedor de software de processamento digital de imagens e foi designado para criar uma função que calcule a soma dos elementos de cada coluna de uma matriz de entrada. A matriz de entrada pode ter qualquer tamanho e é armazenada como um array NumPy.\n",
        "\n",
        "Assinatura da função: `soma_colunas(matriz: np.ndarray) -> np.ndarray`\n",
        "\n",
        "Exemplo:\n",
        "\n",
        "```python\n",
        "\n",
        "matriz = np.array([[1, 2, 3], [4, 5, 6], [7, 8, 9]])\n",
        "\n",
        "soma = soma_colunas(matriz)\n",
        "\n",
        ">>> array([12, 15, 18])\n",
        "```\n"
      ]
    },
    {
      "cell_type": "code",
      "execution_count": null,
      "metadata": {
        "colab": {
          "base_uri": "https://localhost:8080/"
        },
        "id": "VAKgprfJ3Csz",
        "outputId": "699b468b-8538-4803-ff39-60ebb2154d18"
      },
      "outputs": [
        {
          "output_type": "stream",
          "name": "stdout",
          "text": [
            "[[1 2 3]\n",
            " [4 5 6]\n",
            " [7 8 9]]\n",
            "[12 15 18]\n",
            "[12 15 18]\n",
            "[[  7  10   3]\n",
            " [  2  -1   0]\n",
            " [  6 -10   9]]\n",
            "[15 -1 12]\n",
            "[15 -1 12]\n"
          ]
        }
      ],
      "source": [
        "import numpy as np\n",
        "\n",
        "#sem np.sum\n",
        "def soma_colunas(matriz: np.ndarray) -> np.ndarray:\n",
        "    aux  = np.ones((matriz.shape[1]),dtype=np.uint8)\n",
        "    soma = matriz.T @ aux\n",
        "    return soma\n",
        "\n",
        "def soma_colunas_v2(matriz: np.ndarray) -> np.ndarray:\n",
        "  return np.sum(matriz,axis=0)\n",
        "\n",
        "matriz = np.array([[1, 2, 3], [4, 5, 6], [7, 8, 9]])\n",
        "print(matriz)\n",
        "\n",
        "soma  = soma_colunas(matriz)\n",
        "soma2 = soma_colunas_v2(matriz)\n",
        "\n",
        "print(soma)\n",
        "print(soma2)\n",
        "\n",
        "matriz = np.array([[7, 10, 3], [2, -1, 0], [6, -10, 9]])\n",
        "print(matriz)\n",
        "\n",
        "soma = soma_colunas(matriz)\n",
        "soma2 = soma_colunas_v2(matriz)\n",
        "\n",
        "print(soma)\n",
        "print(soma2)"
      ]
    },
    {
      "cell_type": "markdown",
      "metadata": {
        "id": "iN1rAuyp3Cs0"
      },
      "source": [
        "## Criação de uma Matriz Identidade Usando NumPy\n",
        "\n",
        "No processamento digital de imagens, é comum utilizar matrizes para representar imagens e aplicar operações matemáticas sobre elas. Uma operação comum é a multiplicação de uma matriz por um escalar, que pode ser usado para ajustar o brilho ou a intensidade de cores de uma imagem. O NumPy é uma biblioteca do Python que permite trabalhar com matrizes multidimensionais e oferece diversas funções e operações matemáticas.\n",
        "\n",
        "Nesse contexto, crie uma função chamada `cria_matriz_identidade` que receba dois parâmetros: o tamanho da matriz (*n*) e o fator de multiplicação (*m*). A função deve retornar uma matriz identidade de tamanho *n x n* multiplicada pelo fator *m*, representada como um array numpy.\n",
        "\n",
        "Assinatura da função: `cria_matriz_identidade(n:int, m:float) -> np.ndarray`\n",
        "\n",
        "Exemplo:\n",
        "\n",
        "```python\n",
        "\n",
        "cria_matriz_identidade(3, 2)\n",
        "\n",
        ">>> array([[2., 0., 0.],\n",
        "           [0., 2., 0.],\n",
        "           [0., 0., 2.]])\n",
        "```"
      ]
    },
    {
      "cell_type": "code",
      "execution_count": null,
      "metadata": {
        "colab": {
          "base_uri": "https://localhost:8080/"
        },
        "id": "AWIpbvCn3Cs0",
        "outputId": "be5e5071-01ee-411f-98da-a4b30ebf5d36"
      },
      "outputs": [
        {
          "output_type": "stream",
          "name": "stdout",
          "text": [
            "[[2. 0. 0.]\n",
            " [0. 2. 0.]\n",
            " [0. 0. 2.]]\n",
            "[[-1. -0. -0. -0.]\n",
            " [-0. -1. -0. -0.]\n",
            " [-0. -0. -1. -0.]\n",
            " [-0. -0. -0. -1.]]\n"
          ]
        }
      ],
      "source": [
        "def cria_matriz_identidade(n:int, m:float) -> np.ndarray:\n",
        "    identidade = np.identity(n)\n",
        "    matriz     = m * identidade\n",
        "    return matriz\n",
        "\n",
        "print(cria_matriz_identidade(3, 2))\n",
        "print(cria_matriz_identidade(4, -1))"
      ]
    }
  ],
  "metadata": {
    "kernelspec": {
      "display_name": "Python 3",
      "language": "python",
      "name": "python3"
    },
    "language_info": {
      "codemirror_mode": {
        "name": "ipython",
        "version": 3
      },
      "file_extension": ".py",
      "mimetype": "text/x-python",
      "name": "python",
      "nbconvert_exporter": "python",
      "pygments_lexer": "ipython3",
      "version": "3.11.2"
    },
    "orig_nbformat": 4,
    "colab": {
      "provenance": []
    }
  },
  "nbformat": 4,
  "nbformat_minor": 0
}