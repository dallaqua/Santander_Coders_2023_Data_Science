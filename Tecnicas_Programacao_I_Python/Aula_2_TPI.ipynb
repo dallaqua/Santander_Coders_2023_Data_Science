{
  "nbformat": 4,
  "nbformat_minor": 0,
  "metadata": {
    "colab": {
      "provenance": [],
      "authorship_tag": "ABX9TyPyzziWbqVx7NlxUGEPW5QK"
    },
    "kernelspec": {
      "name": "python3",
      "display_name": "Python 3"
    },
    "language_info": {
      "name": "python"
    }
  },
  "cells": [
    {
      "cell_type": "markdown",
      "source": [
        "- Crie uma lista de 1 milhão de elementos, onde cada elemento tem numeros aleatorios entre 1 e 20\n",
        "- Agora calcule a soma de todos os elementos dessa lista\n",
        "- Identifique o tempo que demora calcular a soma (pode usar a biblioteca ``time``)"
      ],
      "metadata": {
        "id": "pVpRggfetV2q"
      }
    },
    {
      "cell_type": "code",
      "execution_count": null,
      "metadata": {
        "colab": {
          "base_uri": "https://localhost:8080/"
        },
        "id": "dl-mE1tH9b9Y",
        "outputId": "1d04212e-b93b-4472-e97f-2eff82480a59"
      },
      "outputs": [
        {
          "output_type": "stream",
          "name": "stdout",
          "text": [
            "0.00594639778137207\n"
          ]
        }
      ],
      "source": [
        "import time\n",
        "import random\n",
        "\n",
        "lista = []\n",
        "\n",
        "for i in range(1000000):\n",
        "  lista.append(random.randint(1,20))\n",
        "\n",
        "init = time.time()\n",
        "soma = sum(lista)\n",
        "end = time.time()\n",
        "print(end-init)"
      ]
    },
    {
      "cell_type": "markdown",
      "source": [
        "1. Escreva um programa NumPy para criar uma matriz 3x4 preenchida com valores de 10 a 21.\n",
        "   \n",
        "   A saida esperada seria [[10, 11, 12, 13], [14, 15, 16, 17], [18, 19, 20, 21]]"
      ],
      "metadata": {
        "id": "FvNTLz60s9ks"
      }
    },
    {
      "cell_type": "code",
      "source": [
        "import numpy as np\n",
        "\n",
        "matriz = np.arange(10,22).reshape(3,4)\n",
        "print(matriz)"
      ],
      "metadata": {
        "colab": {
          "base_uri": "https://localhost:8080/"
        },
        "id": "6OIZ4cyms_vA",
        "outputId": "f892c772-de7a-4ca1-b875-120d8b3ece1f"
      },
      "execution_count": null,
      "outputs": [
        {
          "output_type": "stream",
          "name": "stdout",
          "text": [
            "[[10 11 12 13]\n",
            " [14 15 16 17]\n",
            " [18 19 20 21]]\n"
          ]
        }
      ]
    },
    {
      "cell_type": "markdown",
      "source": [
        "2. Escreva um programa NumPy para criar uma matriz bidimensional 8x5 de números aleatórios. Selecione números aleatórios entre 10 e 25."
      ],
      "metadata": {
        "id": "hrsjEDo-tAnU"
      }
    },
    {
      "cell_type": "code",
      "source": [
        "import numpy as np\n",
        "\n",
        "matriz = np.random.randint(10, high=26, size=(8, 5))\n",
        "print(matriz)"
      ],
      "metadata": {
        "colab": {
          "base_uri": "https://localhost:8080/"
        },
        "id": "WtKH_Auft90u",
        "outputId": "1bfb06bb-2bed-47af-ab60-7bba859aa0d1"
      },
      "execution_count": null,
      "outputs": [
        {
          "output_type": "stream",
          "name": "stdout",
          "text": [
            "[[24 18 19 14 20]\n",
            " [24 25 19 20 22]\n",
            " [24 13 23 10 19]\n",
            " [11 25 13 16 12]\n",
            " [23 16 20 12 24]\n",
            " [18 12 15 14 11]\n",
            " [22 24 11 14 19]\n",
            " [16 24 14 20 14]]\n"
          ]
        }
      ]
    },
    {
      "cell_type": "markdown",
      "source": [
        "3. Escreva um programa NumPy para criar uma matriz 10x10, na qual os elementos nas bordas serão iguais a 1 e no interior 0."
      ],
      "metadata": {
        "id": "KgQzFN-MuWAH"
      }
    },
    {
      "cell_type": "code",
      "source": [
        "import numpy as np\n",
        "\n",
        "matriz = np.zeros((10,10),dtype=int)\n",
        "matriz[0,:] = 1\n",
        "matriz[-1,:] = 1\n",
        "matriz[:,0] = 1\n",
        "matriz[:,-1] = 1\n",
        "print(matriz)"
      ],
      "metadata": {
        "colab": {
          "base_uri": "https://localhost:8080/"
        },
        "id": "vnWTLaJuub8A",
        "outputId": "916b10a1-f092-499f-f7be-b11900185ee8"
      },
      "execution_count": null,
      "outputs": [
        {
          "output_type": "stream",
          "name": "stdout",
          "text": [
            "[[1 1 1 1 1 1 1 1 1 1]\n",
            " [1 0 0 0 0 0 0 0 0 1]\n",
            " [1 0 0 0 0 0 0 0 0 1]\n",
            " [1 0 0 0 0 0 0 0 0 1]\n",
            " [1 0 0 0 0 0 0 0 0 1]\n",
            " [1 0 0 0 0 0 0 0 0 1]\n",
            " [1 0 0 0 0 0 0 0 0 1]\n",
            " [1 0 0 0 0 0 0 0 0 1]\n",
            " [1 0 0 0 0 0 0 0 0 1]\n",
            " [1 1 1 1 1 1 1 1 1 1]]\n"
          ]
        }
      ]
    },
    {
      "cell_type": "code",
      "source": [
        "matriz = np.ones((10,10),dtype=int)\n",
        "matriz[1:-1,1:-1] = 0\n",
        "print(matriz)"
      ],
      "metadata": {
        "colab": {
          "base_uri": "https://localhost:8080/"
        },
        "id": "KpHUTvx4aHlg",
        "outputId": "15edff5e-8e9e-4b73-b0d3-b3155f93662c"
      },
      "execution_count": null,
      "outputs": [
        {
          "output_type": "stream",
          "name": "stdout",
          "text": [
            "[[1 1 1 1 1 1 1 1 1 1]\n",
            " [1 0 0 0 0 0 0 0 0 1]\n",
            " [1 0 0 0 0 0 0 0 0 1]\n",
            " [1 0 0 0 0 0 0 0 0 1]\n",
            " [1 0 0 0 0 0 0 0 0 1]\n",
            " [1 0 0 0 0 0 0 0 0 1]\n",
            " [1 0 0 0 0 0 0 0 0 1]\n",
            " [1 0 0 0 0 0 0 0 0 1]\n",
            " [1 0 0 0 0 0 0 0 0 1]\n",
            " [1 1 1 1 1 1 1 1 1 1]]\n"
          ]
        }
      ]
    },
    {
      "cell_type": "markdown",
      "source": [
        "4. Usando como base o 'Exercício de aquecimento', compare quanto demora somar um vetor da forma convencional e usando Numpy."
      ],
      "metadata": {
        "id": "KP9djbj1ux0H"
      }
    },
    {
      "cell_type": "code",
      "source": [
        "import time\n",
        "\n",
        "vetor = np.random.randint(1, high=21, size=(1000000, 1))\n",
        "init = time.time()\n",
        "soma = np.sum(vetor)\n",
        "end = time.time()\n",
        "print(end-init)"
      ],
      "metadata": {
        "colab": {
          "base_uri": "https://localhost:8080/"
        },
        "id": "KnuQGBSjuy6m",
        "outputId": "ab11130e-996a-42e8-e44e-3ffee27085e4"
      },
      "execution_count": null,
      "outputs": [
        {
          "output_type": "stream",
          "name": "stdout",
          "text": [
            "0.0008072853088378906\n"
          ]
        }
      ]
    }
  ]
}