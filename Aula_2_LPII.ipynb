{
  "nbformat": 4,
  "nbformat_minor": 0,
  "metadata": {
    "colab": {
      "provenance": []
    },
    "kernelspec": {
      "name": "python3",
      "display_name": "Python 3"
    },
    "language_info": {
      "name": "python"
    }
  },
  "cells": [
    {
      "cell_type": "markdown",
      "source": [
        "# Dicionários"
      ],
      "metadata": {
        "id": "ba43XxQZfNKj"
      }
    },
    {
      "cell_type": "code",
      "execution_count": null,
      "metadata": {
        "id": "JZfqYQLeaeue"
      },
      "outputs": [],
      "source": [
        "dicionario = {\n",
        "    \"nome\": \"Igor\",\n",
        "    \"cidade\": \"Niterói\",\n",
        "    \"UF\": \"RJ\"\n",
        "}"
      ]
    },
    {
      "cell_type": "code",
      "source": [
        "print(dicionario)"
      ],
      "metadata": {
        "colab": {
          "base_uri": "https://localhost:8080/"
        },
        "id": "inzm6j1Hl_0C",
        "outputId": "cc883939-907d-48ad-8de6-314f8b5cffdc"
      },
      "execution_count": null,
      "outputs": [
        {
          "output_type": "stream",
          "name": "stdout",
          "text": [
            "{'nome': 'Igor', 'cidade': 'Niterói', 'UF': 'RJ'}\n"
          ]
        }
      ]
    },
    {
      "cell_type": "code",
      "source": [
        "import json\n",
        "\n",
        "pretty_json = json.dumps(dicionario, indent=4, ensure_ascii=False)\n",
        "print(pretty_json)"
      ],
      "metadata": {
        "colab": {
          "base_uri": "https://localhost:8080/"
        },
        "id": "XDM1ypUhmHE1",
        "outputId": "29c6fa07-96b4-4c89-e285-9dfc3aa7de15"
      },
      "execution_count": null,
      "outputs": [
        {
          "output_type": "stream",
          "name": "stdout",
          "text": [
            "{\n",
            "    \"nome\": \"Igor\",\n",
            "    \"cidade\": \"Niterói\",\n",
            "    \"UF\": \"RJ\"\n",
            "}\n"
          ]
        }
      ]
    },
    {
      "cell_type": "markdown",
      "source": [
        "Inserção"
      ],
      "metadata": {
        "id": "B6769nolmmzC"
      }
    },
    {
      "cell_type": "code",
      "source": [
        "dicionario['email'] = \"igorgbs@gmail.com\""
      ],
      "metadata": {
        "id": "-Llp-jl0mmba"
      },
      "execution_count": null,
      "outputs": []
    },
    {
      "cell_type": "code",
      "source": [
        "print(dicionario)"
      ],
      "metadata": {
        "colab": {
          "base_uri": "https://localhost:8080/"
        },
        "id": "12R1E-hTmxwo",
        "outputId": "95838c24-6e23-463f-df61-b60ca43d593c"
      },
      "execution_count": null,
      "outputs": [
        {
          "output_type": "stream",
          "name": "stdout",
          "text": [
            "{'nome': 'Igor', 'cidade': 'Niterói', 'UF': 'RJ', 'email': 'igorgbs@gmail.com'}\n"
          ]
        }
      ]
    },
    {
      "cell_type": "code",
      "source": [
        "del dicionario['email']"
      ],
      "metadata": {
        "id": "WiVi0StPm61C"
      },
      "execution_count": null,
      "outputs": []
    },
    {
      "cell_type": "code",
      "source": [
        "print(dicionario)"
      ],
      "metadata": {
        "colab": {
          "base_uri": "https://localhost:8080/"
        },
        "id": "7ifp1UVEm_gw",
        "outputId": "11824793-2d15-4ae1-94f6-30307a62be99"
      },
      "execution_count": null,
      "outputs": [
        {
          "output_type": "stream",
          "name": "stdout",
          "text": [
            "{'nome': 'Igor', 'cidade': 'Niterói', 'UF': 'RJ'}\n"
          ]
        }
      ]
    },
    {
      "cell_type": "code",
      "source": [
        "dicionario['cidade'] = \"Rio de Janeiro\""
      ],
      "metadata": {
        "id": "t7yR2hPrnHLs"
      },
      "execution_count": null,
      "outputs": []
    },
    {
      "cell_type": "code",
      "source": [
        "print(dicionario)"
      ],
      "metadata": {
        "colab": {
          "base_uri": "https://localhost:8080/"
        },
        "id": "s6JslXVrnL5f",
        "outputId": "ea22fc54-a54b-44b5-83e2-02013c67a0ea"
      },
      "execution_count": null,
      "outputs": [
        {
          "output_type": "stream",
          "name": "stdout",
          "text": [
            "{'nome': 'Igor', 'cidade': 'Rio de Janeiro', 'UF': 'RJ'}\n"
          ]
        }
      ]
    },
    {
      "cell_type": "code",
      "source": [
        "for key, value in dicionario.items():\n",
        "  print(key, value)"
      ],
      "metadata": {
        "colab": {
          "base_uri": "https://localhost:8080/"
        },
        "id": "gF_VQOmjnZnT",
        "outputId": "693da80e-9d4f-424d-8b8a-1bd24025307a"
      },
      "execution_count": null,
      "outputs": [
        {
          "output_type": "stream",
          "name": "stdout",
          "text": [
            "nome Igor\n",
            "cidade Rio de Janeiro\n",
            "UF RJ\n"
          ]
        }
      ]
    },
    {
      "cell_type": "code",
      "source": [
        "cadastro = {\n",
        "    \"nome\": [\"Joao\", \"Maria\"],\n",
        "    \"idade\": [59, 62],\n",
        "    \"altura\": [1.88, 1.66]\n",
        "}"
      ],
      "metadata": {
        "id": "wXcTLlwSoaRT"
      },
      "execution_count": null,
      "outputs": []
    },
    {
      "cell_type": "code",
      "source": [
        "cadastro = {\n",
        "    \"111.555.444-90\":{\n",
        "        \"nome\": \"Joao\",\n",
        "        \"idade\": 59,\n",
        "        \"altura\": 1.88,\n",
        "        \"cidade\": \"Niteroi\",\n",
        "        \"RG\": \"77-440555-0\"\n",
        "    },\n",
        "   \"222.333.444-55\":{\n",
        "        \"nome\": \"Maria\",\n",
        "        \"idade\": 62,\n",
        "        \"altura\": 1.66\n",
        "    }\n",
        "}"
      ],
      "metadata": {
        "id": "a8nHcunipF5j"
      },
      "execution_count": null,
      "outputs": []
    },
    {
      "cell_type": "code",
      "source": [
        "cadastro = {\n",
        "    \"7566890-DETRANSP\":{\n",
        "        \"nome\": \"Joao\",\n",
        "        \"idade\": 59,\n",
        "        \"altura\": 1.88,\n",
        "        \"cidade\": \"Niteroi\",\n",
        "        \"RG\": \"77-440555-0\"\n",
        "    },\n",
        "   \"222.333.444-55\":{\n",
        "        \"nome\": \"Maria\",\n",
        "        \"idade\": 62,\n",
        "        \"altura\": 1.66\n",
        "    }\n",
        "}"
      ],
      "metadata": {
        "id": "KeSbOahwxQoj"
      },
      "execution_count": null,
      "outputs": []
    },
    {
      "cell_type": "code",
      "source": [
        "cadastro = {\n",
        "    \"DETRANSP\":{\n",
        "        \"RG\": \"7566890\"{\n",
        "\n",
        "        },\n",
        "        \"idade\": 59,\n",
        "        \"altura\": 1.88,\n",
        "        \"cidade\": \"Niteroi\",\n",
        "        \"RG\": \"77-440555-0\"\n",
        "    },\n",
        "   \"222.333.444-55\":{\n",
        "        \"nome\": \"Maria\",\n",
        "        \"idade\": 62,\n",
        "        \"altura\": 1.66\n",
        "    }\n",
        "}"
      ],
      "metadata": {
        "id": "2cvbfBhuxmLv"
      },
      "execution_count": null,
      "outputs": []
    },
    {
      "cell_type": "markdown",
      "source": [
        "JSON com APIs"
      ],
      "metadata": {
        "id": "JtkL2cW4wZNW"
      }
    },
    {
      "cell_type": "code",
      "source": [
        "import json\n",
        "import requests\n",
        "\n",
        "link = \"http://api.openweathermap.org/data/2.5/weather\"\n",
        "api_chave = \"seu_token\"\n",
        "\n",
        "cidade = \"São Paulo\"\n",
        "\n",
        "params ={\n",
        "    \"q\": cidade,\n",
        "    \"appid\": api_chave,\n",
        "    \"units\": \"metric\",\n",
        "    \"lang\": \"pt_br\"\n",
        "}\n",
        "\n",
        "resultado = requests.get(link, params=params)\n",
        "dados = resultado.json()\n",
        "pretty_json = json.dumps(dados, indent=4, ensure_ascii=False)\n",
        "print(pretty_json)"
      ],
      "metadata": {
        "colab": {
          "base_uri": "https://localhost:8080/"
        },
        "id": "0-dGPIXfwYgb",
        "outputId": "eeb80dd8-f638-4fd4-af53-f3bbc9edf635"
      },
      "execution_count": null,
      "outputs": [
        {
          "output_type": "stream",
          "name": "stdout",
          "text": [
            "{\n",
            "    \"coord\": {\n",
            "        \"lon\": -46.6361,\n",
            "        \"lat\": -23.5475\n",
            "    },\n",
            "    \"weather\": [\n",
            "        {\n",
            "            \"id\": 803,\n",
            "            \"main\": \"Clouds\",\n",
            "            \"description\": \"nublado\",\n",
            "            \"icon\": \"04n\"\n",
            "        }\n",
            "    ],\n",
            "    \"base\": \"stations\",\n",
            "    \"main\": {\n",
            "        \"temp\": 11.69,\n",
            "        \"feels_like\": 11.13,\n",
            "        \"temp_min\": 10.94,\n",
            "        \"temp_max\": 12.47,\n",
            "        \"pressure\": 1023,\n",
            "        \"humidity\": 85\n",
            "    },\n",
            "    \"visibility\": 10000,\n",
            "    \"wind\": {\n",
            "        \"speed\": 4.63,\n",
            "        \"deg\": 140\n",
            "    },\n",
            "    \"clouds\": {\n",
            "        \"all\": 75\n",
            "    },\n",
            "    \"dt\": 1689379841,\n",
            "    \"sys\": {\n",
            "        \"type\": 2,\n",
            "        \"id\": 2033898,\n",
            "        \"country\": \"BR\",\n",
            "        \"sunrise\": 1689328090,\n",
            "        \"sunset\": 1689366969\n",
            "    },\n",
            "    \"timezone\": -10800,\n",
            "    \"id\": 3448439,\n",
            "    \"name\": \"São Paulo\",\n",
            "    \"cod\": 200\n",
            "}\n"
          ]
        }
      ]
    },
    {
      "cell_type": "code",
      "source": [
        "lista_cidades = [\"Paris\", \"São Paulo\", \"Bangladesh\", \"Londres\", \"La Paz\", \"Tóquio\", \"Belo Horizonte\", \"Xangai\"]"
      ],
      "metadata": {
        "id": "teICGu6m1xxH"
      },
      "execution_count": null,
      "outputs": []
    },
    {
      "cell_type": "code",
      "source": [
        "lista = []\n",
        "for cidade in lista_cidades:\n",
        "  params ={\n",
        "    \"q\": cidade,\n",
        "    \"appid\": api_chave,\n",
        "    \"units\": \"metric\",\n",
        "    \"lang\": \"pt_br\"\n",
        "  }\n",
        "  resultado = requests.get(link, params=params)\n",
        "  dados = resultado.json()\n",
        "  pretty_json = json.dumps(dados, indent=4, ensure_ascii=False)\n",
        "  #print(pretty_json)\n",
        "  #print(\"\\n-----\\n\")\n",
        "\n",
        "  meu_dicionario = {\n",
        "      \"cidade\": dados['name'],\n",
        "      \"pais\": dados['sys']['country'],\n",
        "      \"lon\": dados['coord']['lon'],\n",
        "      \"lat\": dados['coord']['lat'],\n",
        "      \"temperatura\": dados['main']['temp'],\n",
        "      \"sensacao\": dados['main']['feels_like']\n",
        "  }\n",
        "  lista.append(meu_dicionario)\n",
        "\n",
        "#print(lista)\n",
        "\n",
        "for i in lista:\n",
        "  print(i)"
      ],
      "metadata": {
        "colab": {
          "base_uri": "https://localhost:8080/"
        },
        "id": "zHm3SKPr0Nx1",
        "outputId": "d3b318c7-8984-4ccf-e134-f70f9dcca60a"
      },
      "execution_count": null,
      "outputs": [
        {
          "output_type": "stream",
          "name": "stdout",
          "text": [
            "{'cidade': 'Paris', 'pais': 'FR', 'lon': 2.3488, 'lat': 48.8534, 'temperatura': 24.31, 'sensacao': 24.1}\n",
            "{'cidade': 'São Paulo', 'pais': 'BR', 'lon': -46.6361, 'lat': -23.5475, 'temperatura': 11.61, 'sensacao': 11.05}\n",
            "{'cidade': 'Bangladesh', 'pais': 'BD', 'lon': 90, 'lat': 24, 'temperatura': 27.03, 'sensacao': 31.26}\n",
            "{'cidade': 'London', 'pais': 'GB', 'lon': -0.1257, 'lat': 51.5085, 'temperatura': 16.02, 'sensacao': 16}\n",
            "{'cidade': 'La Paz', 'pais': 'BO', 'lon': -68.15, 'lat': -16.5, 'temperatura': 10.88, 'sensacao': 9.67}\n",
            "{'cidade': 'Tokyo', 'pais': 'JP', 'lon': 139.6917, 'lat': 35.6895, 'temperatura': 28.46, 'sensacao': 32.23}\n",
            "{'cidade': 'Belo Horizonte', 'pais': 'BR', 'lon': -43.9378, 'lat': -19.9208, 'temperatura': 15.52, 'sensacao': 14.04}\n",
            "{'cidade': 'Shanghai', 'pais': 'CN', 'lon': 121.4581, 'lat': 31.2222, 'temperatura': 29.67, 'sensacao': 36.67}\n"
          ]
        }
      ]
    },
    {
      "cell_type": "code",
      "source": [
        "#Calcular a média das temperaturas\n",
        "soma_temps = 0\n",
        "for i in lista:\n",
        "  soma_temps += i[\"temperatura\"]\n",
        "media = soma_temps/len(lista)\n",
        "print(f'A média das temperaturas é: {media}')\n",
        "\n",
        "#ou\n",
        "temps = [x[\"temperatura\"] for x in lista]\n",
        "media = sum(temps)/len(temps)\n",
        "print(media)"
      ],
      "metadata": {
        "colab": {
          "base_uri": "https://localhost:8080/"
        },
        "id": "fpDHov2o5t8D",
        "outputId": "72aa2d0f-9460-46ac-8754-4a12739c6b99"
      },
      "execution_count": null,
      "outputs": [
        {
          "output_type": "stream",
          "name": "stdout",
          "text": [
            "A média das temperaturas é: 20.4375\n",
            "20.4375\n"
          ]
        }
      ]
    },
    {
      "cell_type": "code",
      "source": [
        "import math\n",
        "\n",
        "\n",
        "def distancia(lat1,lon1,lat2,lon2):\n",
        "  # d = 2 * R * arcsin(sqrt(sin²((lat2 - lat1) / 2) + cos(lat1) * cos(lat2) * sin²((lon2 - lon1) / 2)))\n",
        "  lat1 = math.radians(lat1)\n",
        "  lon1 = math.radians(lon1)\n",
        "  lat2 = math.radians(lat2)\n",
        "  lon2 = math.radians(lon2)\n",
        "  R = 6378.137\n",
        "  d = 2 * R * math.asin(math.sqrt(math.sin((lat2 - lat1) / 2)*math.sin((lat2 - lat1) / 2) + math.cos(lat1) * math.cos(lat2) * math.sin((lon2 - lon1) / 2)*math.sin((lon2 - lon1) / 2)))\n",
        "  print(d)\n",
        "  return round(d,2)\n",
        "\n",
        "lat1  = lista[2][\"lat\"]\n",
        "lon1  = lista[2][\"lon\"]\n",
        "lat2  = lista[3][\"lat\"]\n",
        "lon2  = lista[3][\"lon\"]\n",
        "\n",
        "print(f'{distancia(lat1,lon1,lat2,lon2)} km')"
      ],
      "metadata": {
        "colab": {
          "base_uri": "https://localhost:8080/"
        },
        "id": "fmctJoAC9Pxq",
        "outputId": "74e62b76-725f-4dd1-f484-b6605c032de8"
      },
      "execution_count": null,
      "outputs": [
        {
          "output_type": "stream",
          "name": "stdout",
          "text": [
            "7960.682614691514\n",
            "7960.68 km\n"
          ]
        }
      ]
    }
  ]
}